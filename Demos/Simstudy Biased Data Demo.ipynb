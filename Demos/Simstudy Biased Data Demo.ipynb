{
 "cells": [
  {
   "cell_type": "markdown",
   "metadata": {},
   "source": [
    "## Creating Biased Datasets Using Simstudy\n",
    "\n",
    "In this notebook, we will be using Simstudy to simulate a dataset in which certain outcomes are biased, conditional on certain characteristics. We aim to demonstrate how Simstudy can be used to develop accelerators, as well as Trustworthy AI demos. By specifying the relationships between inputs and outputs ahead of time, we can see how well different algorithms do at estimating these relationships."
   ]
  },
  {
   "cell_type": "code",
   "execution_count": 1,
   "metadata": {},
   "outputs": [
    {
     "name": "stdout",
     "output_type": "stream",
     "text": [
      "/Users/gabrielgilling/Documents/GitHub/pysimstudy\n"
     ]
    }
   ],
   "source": [
    "cd ../"
   ]
  },
  {
   "cell_type": "code",
   "execution_count": 2,
   "metadata": {},
   "outputs": [],
   "source": [
    "import math\n",
    "import pandas as pd\n",
    "import numpy as np\n",
    "import random\n",
    "from scipy import special\n",
    "import seaborn as sns\n",
    "import matplotlib.pyplot as plt\n",
    "\n",
    "from py_scripts.generate_dist import *\n",
    "from py_scripts.group_data import *\n",
    "from py_scripts.define_data import *\n",
    "from py_scripts.generate_data import *\n",
    "from py_scripts.add_data import *\n",
    "from py_scripts.asserts import *\n",
    "\n",
    "import statsmodels.api as sm\n",
    "\n",
    "np.random.seed(42)\n",
    "\n",
    "def coefasProb(coef):\n",
    "    return np.exp(coef) / (1 + np.exp(coef))"
   ]
  },
  {
   "cell_type": "markdown",
   "metadata": {},
   "source": [
    "Let's start with the building blocks of the pysimstudy package. \n",
    "\n",
    "The first step is to define a _definitions_ data table in which we describe the variables we want to generate. We pass arguments to define the generated variable's name (varname), as well as its statistical parameters. The _formula_ argument refers to the variable's mean, or expected value, and _variance_ is self evident. The _formula_ argument allows you to pass an equation to generate your data. In the example below, we want our __income__ variable to be centered at 0, but as we will see later on, we can also make the formula dependent on previously written data definitions to generate complex dependencies in the synthetic data. Note that the _variance_ argument is squared in this case, since the standard deviation is the square-root of variance.\n",
    "\n",
    "We then define our target variable, __approval__. We add a new row to the data definitions table created in the previous lines of code by passing _df_ as the first argument. The _formula_ is defined as follows: the probability of an individual being approved is 50% +/- their relative income. In other words, inviduals who are on the higher (lower) end of the income scale will be more (less) likely to receive an approval.\n"
   ]
  },
  {
   "cell_type": "code",
   "execution_count": 12,
   "metadata": {},
   "outputs": [
    {
     "data": {
      "text/html": [
       "<div>\n",
       "<style scoped>\n",
       "    .dataframe tbody tr th:only-of-type {\n",
       "        vertical-align: middle;\n",
       "    }\n",
       "\n",
       "    .dataframe tbody tr th {\n",
       "        vertical-align: top;\n",
       "    }\n",
       "\n",
       "    .dataframe thead th {\n",
       "        text-align: right;\n",
       "    }\n",
       "</style>\n",
       "<table border=\"1\" class=\"dataframe\">\n",
       "  <thead>\n",
       "    <tr style=\"text-align: right;\">\n",
       "      <th></th>\n",
       "      <th>varname</th>\n",
       "      <th>formula</th>\n",
       "      <th>variance</th>\n",
       "      <th>dist</th>\n",
       "      <th>link</th>\n",
       "    </tr>\n",
       "  </thead>\n",
       "  <tbody>\n",
       "    <tr>\n",
       "      <th>0</th>\n",
       "      <td>income</td>\n",
       "      <td>0</td>\n",
       "      <td>0.1**2</td>\n",
       "      <td>normal</td>\n",
       "      <td>identity</td>\n",
       "    </tr>\n",
       "    <tr>\n",
       "      <th>1</th>\n",
       "      <td>approval</td>\n",
       "      <td>0.5+income</td>\n",
       "      <td>0</td>\n",
       "      <td>binary</td>\n",
       "      <td>identity</td>\n",
       "    </tr>\n",
       "  </tbody>\n",
       "</table>\n",
       "</div>"
      ],
      "text/plain": [
       "    varname     formula variance    dist      link\n",
       "0    income           0   0.1**2  normal  identity\n",
       "1  approval  0.5+income        0  binary  identity"
      ]
     },
     "execution_count": 12,
     "metadata": {},
     "output_type": "execute_result"
    }
   ],
   "source": [
    "ddf = defData(varname = \"income\", formula=0,\n",
    "             variance=\"0.1**2\", dist=\"normal\")\n",
    "\n",
    "# df = defData(df, varname = \"region\", formula=\"0.333, 0.333, 0.333\",\n",
    "#              variance=\"red, blue, green\", dist=\"categorical\")\n",
    "             \n",
    "ddf = defData(ddf, varname=\"approval\", formula='0.5+income', dist='binary')\n",
    "\n",
    "ddf\n"
   ]
  },
  {
   "cell_type": "markdown",
   "metadata": {},
   "source": [
    "Now that we "
   ]
  },
  {
   "cell_type": "code",
   "execution_count": 14,
   "metadata": {},
   "outputs": [
    {
     "data": {
      "text/html": [
       "<div>\n",
       "<style scoped>\n",
       "    .dataframe tbody tr th:only-of-type {\n",
       "        vertical-align: middle;\n",
       "    }\n",
       "\n",
       "    .dataframe tbody tr th {\n",
       "        vertical-align: top;\n",
       "    }\n",
       "\n",
       "    .dataframe thead th {\n",
       "        text-align: right;\n",
       "    }\n",
       "</style>\n",
       "<table border=\"1\" class=\"dataframe\">\n",
       "  <thead>\n",
       "    <tr style=\"text-align: right;\">\n",
       "      <th></th>\n",
       "      <th>id</th>\n",
       "      <th>income</th>\n",
       "      <th>approval</th>\n",
       "    </tr>\n",
       "  </thead>\n",
       "  <tbody>\n",
       "    <tr>\n",
       "      <th>0</th>\n",
       "      <td>0</td>\n",
       "      <td>-0.047946</td>\n",
       "      <td>0</td>\n",
       "    </tr>\n",
       "    <tr>\n",
       "      <th>1</th>\n",
       "      <td>1</td>\n",
       "      <td>-0.102807</td>\n",
       "      <td>1</td>\n",
       "    </tr>\n",
       "    <tr>\n",
       "      <th>2</th>\n",
       "      <td>2</td>\n",
       "      <td>0.050200</td>\n",
       "      <td>1</td>\n",
       "    </tr>\n",
       "    <tr>\n",
       "      <th>3</th>\n",
       "      <td>3</td>\n",
       "      <td>-0.170686</td>\n",
       "      <td>1</td>\n",
       "    </tr>\n",
       "    <tr>\n",
       "      <th>4</th>\n",
       "      <td>4</td>\n",
       "      <td>-0.026784</td>\n",
       "      <td>1</td>\n",
       "    </tr>\n",
       "  </tbody>\n",
       "</table>\n",
       "</div>"
      ],
      "text/plain": [
       "   id    income  approval\n",
       "0   0 -0.047946         0\n",
       "1   1 -0.102807         1\n",
       "2   2  0.050200         1\n",
       "3   3 -0.170686         1\n",
       "4   4 -0.026784         1"
      ]
     },
     "execution_count": 14,
     "metadata": {},
     "output_type": "execute_result"
    }
   ],
   "source": [
    "gdf = genData(10000, ddf)\n",
    "gdf.head()"
   ]
  },
  {
   "cell_type": "code",
   "execution_count": 17,
   "metadata": {},
   "outputs": [
    {
     "data": {
      "text/plain": [
       "<seaborn.axisgrid.FacetGrid at 0x10f5b7670>"
      ]
     },
     "execution_count": 17,
     "metadata": {},
     "output_type": "execute_result"
    },
    {
     "data": {
      "image/png": "[encoded data removed]",
      "text/plain": [
       "<Figure size 360x360 with 1 Axes>"
      ]
     },
     "metadata": {
      "needs_background": "light"
     },
     "output_type": "display_data"
    }
   ],
   "source": [
    "sns.displot(gdf['income'])"
   ]
  },
  {
   "cell_type": "markdown",
   "metadata": {},
   "source": [
    "In certain cases, the formula and variance arguments are used differently. For instance, when defining a categorical data definition, the _formula_ argument is used to determine the categories' respective probabilities of being drawn, and the _variance_ argument defines the categories' names. "
   ]
  },
  {
   "cell_type": "code",
   "execution_count": null,
   "metadata": {},
   "outputs": [],
   "source": [
    "defC = defCondition(condition = \"color=='blue'\", formula = \"0.1\", variance = \"0.1\",\n",
    "                    dist = \"normal\")\n",
    "\n",
    "defC = defCondition(defC, condition = \"color!='blue'\", formula = \"0\", variance = \"0.1\",\n",
    "                    dist = \"normal\")\n",
    "\n",
    "df3 = addCondition(defC, df2, newvar=\"income\")"
   ]
  },
  {
   "cell_type": "code",
   "execution_count": null,
   "metadata": {},
   "outputs": [],
   "source": []
  },
  {
   "cell_type": "code",
   "execution_count": 6,
   "metadata": {},
   "outputs": [],
   "source": [
    "df = defData(varname = \"color\", formula=\"0.333, 0.333, 0.333\",\n",
    "             variance=\"red, blue, green\", dist=\"categorical\")\n",
    "             \n",
    "df = defData(df, varname = \"income\", formula=0,\n",
    "             variance=1, dist=\"normal\")\n",
    "             \n",
    "df = defData(df, varname=\"approval\", formula='0.5', dist='binary')\n",
    "\n",
    "df2 = genData(10000, df)\n",
    "\n",
    "defC = defCondition(condition = \"color=='blue'\", formula = \"0.4+income/10\",\n",
    "                    dist = \"binary\")\n",
    "\n",
    "defC = defCondition(defC, condition = \"color!='blue'\", formula = \"0.5+income/10\",\n",
    "                    dist = \"binary\")\n",
    "\n",
    "df3 = addCondition(defC, df2, newvar=\"approval_bias\")"
   ]
  },
  {
   "cell_type": "code",
   "execution_count": 7,
   "metadata": {},
   "outputs": [
    {
     "data": {
      "text/html": [
       "<div>\n",
       "<style scoped>\n",
       "    .dataframe tbody tr th:only-of-type {\n",
       "        vertical-align: middle;\n",
       "    }\n",
       "\n",
       "    .dataframe tbody tr th {\n",
       "        vertical-align: top;\n",
       "    }\n",
       "\n",
       "    .dataframe thead th {\n",
       "        text-align: right;\n",
       "    }\n",
       "</style>\n",
       "<table border=\"1\" class=\"dataframe\">\n",
       "  <thead>\n",
       "    <tr style=\"text-align: right;\">\n",
       "      <th></th>\n",
       "      <th>id</th>\n",
       "      <th>color</th>\n",
       "      <th>income</th>\n",
       "      <th>approval</th>\n",
       "      <th>approval_bias</th>\n",
       "    </tr>\n",
       "  </thead>\n",
       "  <tbody>\n",
       "    <tr>\n",
       "      <th>0</th>\n",
       "      <td>0</td>\n",
       "      <td>blue</td>\n",
       "      <td>0.006596</td>\n",
       "      <td>1</td>\n",
       "      <td>0</td>\n",
       "    </tr>\n",
       "    <tr>\n",
       "      <th>1</th>\n",
       "      <td>2</td>\n",
       "      <td>blue</td>\n",
       "      <td>-0.455134</td>\n",
       "      <td>0</td>\n",
       "      <td>0</td>\n",
       "    </tr>\n",
       "    <tr>\n",
       "      <th>2</th>\n",
       "      <td>3</td>\n",
       "      <td>blue</td>\n",
       "      <td>0.883805</td>\n",
       "      <td>0</td>\n",
       "      <td>0</td>\n",
       "    </tr>\n",
       "    <tr>\n",
       "      <th>3</th>\n",
       "      <td>8</td>\n",
       "      <td>blue</td>\n",
       "      <td>0.199709</td>\n",
       "      <td>0</td>\n",
       "      <td>0</td>\n",
       "    </tr>\n",
       "    <tr>\n",
       "      <th>4</th>\n",
       "      <td>10</td>\n",
       "      <td>blue</td>\n",
       "      <td>0.846566</td>\n",
       "      <td>1</td>\n",
       "      <td>0</td>\n",
       "    </tr>\n",
       "    <tr>\n",
       "      <th>...</th>\n",
       "      <td>...</td>\n",
       "      <td>...</td>\n",
       "      <td>...</td>\n",
       "      <td>...</td>\n",
       "      <td>...</td>\n",
       "    </tr>\n",
       "    <tr>\n",
       "      <th>9995</th>\n",
       "      <td>9990</td>\n",
       "      <td>red</td>\n",
       "      <td>-0.736187</td>\n",
       "      <td>1</td>\n",
       "      <td>0</td>\n",
       "    </tr>\n",
       "    <tr>\n",
       "      <th>9996</th>\n",
       "      <td>9991</td>\n",
       "      <td>red</td>\n",
       "      <td>-0.511304</td>\n",
       "      <td>1</td>\n",
       "      <td>1</td>\n",
       "    </tr>\n",
       "    <tr>\n",
       "      <th>9997</th>\n",
       "      <td>9992</td>\n",
       "      <td>green</td>\n",
       "      <td>1.793959</td>\n",
       "      <td>0</td>\n",
       "      <td>1</td>\n",
       "    </tr>\n",
       "    <tr>\n",
       "      <th>9998</th>\n",
       "      <td>9994</td>\n",
       "      <td>green</td>\n",
       "      <td>-0.516907</td>\n",
       "      <td>1</td>\n",
       "      <td>0</td>\n",
       "    </tr>\n",
       "    <tr>\n",
       "      <th>9999</th>\n",
       "      <td>9998</td>\n",
       "      <td>red</td>\n",
       "      <td>-0.748486</td>\n",
       "      <td>1</td>\n",
       "      <td>0</td>\n",
       "    </tr>\n",
       "  </tbody>\n",
       "</table>\n",
       "<p>10000 rows × 5 columns</p>\n",
       "</div>"
      ],
      "text/plain": [
       "        id  color    income  approval  approval_bias\n",
       "0        0   blue  0.006596         1              0\n",
       "1        2   blue -0.455134         0              0\n",
       "2        3   blue  0.883805         0              0\n",
       "3        8   blue  0.199709         0              0\n",
       "4       10   blue  0.846566         1              0\n",
       "...    ...    ...       ...       ...            ...\n",
       "9995  9990    red -0.736187         1              0\n",
       "9996  9991    red -0.511304         1              1\n",
       "9997  9992  green  1.793959         0              1\n",
       "9998  9994  green -0.516907         1              0\n",
       "9999  9998    red -0.748486         1              0\n",
       "\n",
       "[10000 rows x 5 columns]"
      ]
     },
     "execution_count": 7,
     "metadata": {},
     "output_type": "execute_result"
    }
   ],
   "source": [
    "df3"
   ]
  },
  {
   "cell_type": "code",
   "execution_count": 8,
   "metadata": {},
   "outputs": [
    {
     "data": {
      "text/plain": [
       "<AxesSubplot:xlabel='approval_bias', ylabel='Count'>"
      ]
     },
     "execution_count": 8,
     "metadata": {},
     "output_type": "execute_result"
    },
    {
     "data": {
      "image/png": "[encoded data removed]",
      "text/plain": [
       "<Figure size 720x432 with 3 Axes>"
      ]
     },
     "metadata": {
      "needs_background": "light"
     },
     "output_type": "display_data"
    }
   ],
   "source": [
    "fig, ax = plt.subplots(1,3, figsize = (10,6))\n",
    "sns.histplot(\n",
    "    data=df3, x='income', hue='approval_bias', multiple='dodge',\n",
    "    # bins=range(1, 110, 10),\n",
    "    ax=ax[0]\n",
    ")\n",
    "\n",
    "sns.histplot(\n",
    "    data=df3, x='income', hue='color', multiple='dodge',\n",
    "    # bins=range(1, 110, 10),\n",
    "    ax=ax[1]\n",
    ")\n",
    "\n",
    "sns.histplot(\n",
    "    data=df3, x='approval_bias', hue='color', multiple='dodge',\n",
    "    # bins=range(1, 110, 10),\n",
    "    ax=ax[2]\n",
    ")"
   ]
  },
  {
   "cell_type": "code",
   "execution_count": 9,
   "metadata": {},
   "outputs": [
    {
     "data": {
      "text/plain": [
       "approval_bias\n",
       "0   -0.178115\n",
       "1    0.199585\n",
       "Name: income, dtype: float64"
      ]
     },
     "execution_count": 9,
     "metadata": {},
     "output_type": "execute_result"
    }
   ],
   "source": [
    "df3.groupby('approval_bias')['income'].mean()"
   ]
  },
  {
   "cell_type": "code",
   "execution_count": 10,
   "metadata": {},
   "outputs": [
    {
     "data": {
      "text/plain": [
       "color\n",
       "blue    -0.006735\n",
       "green    0.012236\n",
       "red     -0.003792\n",
       "Name: income, dtype: float64"
      ]
     },
     "execution_count": 10,
     "metadata": {},
     "output_type": "execute_result"
    }
   ],
   "source": [
    "df2.groupby('color')['income'].mean()"
   ]
  },
  {
   "cell_type": "code",
   "execution_count": 11,
   "metadata": {},
   "outputs": [
    {
     "data": {
      "text/plain": [
       "color  approval_bias\n",
       "blue   0                0.602888\n",
       "       1                0.397112\n",
       "green  1                0.514843\n",
       "       0                0.485157\n",
       "red    1                0.507034\n",
       "       0                0.492966\n",
       "Name: approval_bias, dtype: float64"
      ]
     },
     "execution_count": 11,
     "metadata": {},
     "output_type": "execute_result"
    }
   ],
   "source": [
    "df3.groupby('color')['approval_bias'].value_counts(normalize=True)"
   ]
  },
  {
   "cell_type": "code",
   "execution_count": 12,
   "metadata": {},
   "outputs": [],
   "source": [
    "import statsmodels.api as sm"
   ]
  },
  {
   "cell_type": "code",
   "execution_count": 13,
   "metadata": {},
   "outputs": [],
   "source": [
    "df3['const'] = 1"
   ]
  },
  {
   "cell_type": "code",
   "execution_count": 14,
   "metadata": {},
   "outputs": [
    {
     "name": "stdout",
     "output_type": "stream",
     "text": [
      "                 Generalized Linear Model Regression Results                  \n",
      "==============================================================================\n",
      "Dep. Variable:          approval_bias   No. Observations:                10000\n",
      "Model:                            GLM   Df Residuals:                     9995\n",
      "Model Family:                Binomial   Df Model:                            4\n",
      "Link Function:                  Logit   Scale:                          1.0000\n",
      "Method:                          IRLS   Log-Likelihood:                -6673.5\n",
      "Date:                Thu, 25 Aug 2022   Deviance:                       13347.\n",
      "Time:                        17:08:12   Pearson chi2:                 9.99e+03\n",
      "No. Iterations:                    20   Pseudo R-squ. (CS):            0.04753\n",
      "Covariance Type:            nonrobust                                         \n",
      "===============================================================================\n",
      "                  coef    std err          z      P>|z|      [0.025      0.975]\n",
      "-------------------------------------------------------------------------------\n",
      "income          0.3987      0.021     18.661      0.000       0.357       0.441\n",
      "approval       -0.0795      0.041     -1.935      0.053      -0.160       0.001\n",
      "const          -0.0561      0.022     -2.571      0.010      -0.099      -0.013\n",
      "color_blue     -0.3358      0.030    -11.121      0.000      -0.395      -0.277\n",
      "color_green     0.1523      0.030      5.118      0.000       0.094       0.211\n",
      "color_red       0.1274      0.030      4.269      0.000       0.069       0.186\n",
      "===============================================================================\n"
     ]
    }
   ],
   "source": [
    "mod = sm.GLM(df3['approval_bias'], pd.get_dummies(df3.drop(['id', 'approval_bias'], axis = 1)),\n",
    "family=sm.families.Binomial())\n",
    "res = mod.fit()\n",
    "print(res.summary())"
   ]
  },
  {
   "cell_type": "code",
   "execution_count": 15,
   "metadata": {},
   "outputs": [
    {
     "data": {
      "text/plain": [
       "0.5318069906639059"
      ]
     },
     "execution_count": 15,
     "metadata": {},
     "output_type": "execute_result"
    }
   ],
   "source": [
    "# the coefficient of red as a probability\n",
    "coefasProb(0.1274)"
   ]
  },
  {
   "cell_type": "markdown",
   "metadata": {},
   "source": [
    "## Case Study 2: What happens when Blue is a minority category?"
   ]
  },
  {
   "cell_type": "code",
   "execution_count": 16,
   "metadata": {},
   "outputs": [],
   "source": [
    "df = defData(varname = \"color\", formula=\"0.55, 0.10, 0.35\",\n",
    "             variance=\"red, blue, green\", dist=\"categorical\")\n",
    "             \n",
    "df = defData(df, varname = \"income\", formula=0,\n",
    "             variance=1, dist=\"normal\")\n",
    "             \n",
    "df = defData(df, varname=\"approval\", formula='0.5', dist='binary')\n",
    "\n",
    "df2 = genData(10000, df)\n",
    "\n",
    "defC = defCondition(condition = \"color=='blue'\", formula = \"0.4+income/10\",\n",
    "                    dist = \"binary\")\n",
    "\n",
    "defC = defCondition(defC, condition = \"color!='blue'\", formula = \"0.5+income/10\",\n",
    "                    dist = \"binary\")\n",
    "\n",
    "df3 = addCondition(defC, df2, newvar=\"approval_bias\")"
   ]
  },
  {
   "cell_type": "code",
   "execution_count": 17,
   "metadata": {},
   "outputs": [
    {
     "data": {
      "text/plain": [
       "<AxesSubplot:xlabel='approval_bias', ylabel='Count'>"
      ]
     },
     "execution_count": 17,
     "metadata": {},
     "output_type": "execute_result"
    },
    {
     "data": {
      "image/png": "[encoded data removed]",
      "text/plain": [
       "<Figure size 720x432 with 3 Axes>"
      ]
     },
     "metadata": {
      "needs_background": "light"
     },
     "output_type": "display_data"
    }
   ],
   "source": [
    "fig, ax = plt.subplots(1,3, figsize = (10,6))\n",
    "sns.histplot(\n",
    "    data=df3, x='income', hue='approval_bias', multiple='dodge',\n",
    "    bins=range(1, 110, 10),\n",
    "    ax=ax[0]\n",
    ")\n",
    "\n",
    "sns.histplot(\n",
    "    data=df3, x='income', hue='color', multiple='dodge',\n",
    "    bins=range(1, 110, 10),\n",
    "    ax=ax[1]\n",
    ")\n",
    "\n",
    "sns.histplot(\n",
    "    data=df3, x='approval_bias', hue='color', multiple='dodge',\n",
    "    bins=range(1, 110, 10),\n",
    "    ax=ax[2]\n",
    ")"
   ]
  },
  {
   "cell_type": "code",
   "execution_count": 18,
   "metadata": {},
   "outputs": [
    {
     "name": "stdout",
     "output_type": "stream",
     "text": [
      "                 Generalized Linear Model Regression Results                  \n",
      "==============================================================================\n",
      "Dep. Variable:          approval_bias   No. Observations:                10000\n",
      "Model:                            GLM   Df Residuals:                     9995\n",
      "Model Family:                Binomial   Df Model:                            4\n",
      "Link Function:                  Logit   Scale:                          1.0000\n",
      "Method:                          IRLS   Log-Likelihood:                -6680.3\n",
      "Date:                Thu, 25 Aug 2022   Deviance:                       13361.\n",
      "Time:                        17:08:13   Pearson chi2:                 1.00e+04\n",
      "No. Iterations:                     7   Pseudo R-squ. (CS):            0.04895\n",
      "Covariance Type:            nonrobust                                         \n",
      "===============================================================================\n",
      "                  coef    std err          z      P>|z|      [0.025      0.975]\n",
      "-------------------------------------------------------------------------------\n",
      "income          0.4390      0.021     20.608      0.000       0.397       0.481\n",
      "approval        0.0529      0.041      1.289      0.197      -0.028       0.133\n",
      "const          -0.1114      0.025     -4.417      0.000      -0.161      -0.062\n",
      "color_blue     -0.3531      0.051     -6.866      0.000      -0.454      -0.252\n",
      "color_green     0.1596      0.032      4.963      0.000       0.097       0.223\n",
      "color_red       0.0820      0.028      2.898      0.004       0.027       0.138\n",
      "===============================================================================\n"
     ]
    }
   ],
   "source": [
    "df3['const'] = 1\n",
    "mod = sm.GLM(df3['approval_bias'], pd.get_dummies(df3.drop(['id', 'approval_bias'], axis = 1)),\n",
    "family=sm.families.Binomial())\n",
    "res = mod.fit()\n",
    "print(res.summary())"
   ]
  },
  {
   "cell_type": "code",
   "execution_count": 19,
   "metadata": {},
   "outputs": [
    {
     "data": {
      "text/plain": [
       "0.4208219794045014"
      ]
     },
     "execution_count": 19,
     "metadata": {},
     "output_type": "execute_result"
    }
   ],
   "source": [
    "# the coefficient of blue as a prb\n",
    "coefasProb(-0.3194)"
   ]
  },
  {
   "cell_type": "code",
   "execution_count": 20,
   "metadata": {},
   "outputs": [
    {
     "data": {
      "text/plain": [
       "0.5213370337092745"
      ]
     },
     "execution_count": 20,
     "metadata": {},
     "output_type": "execute_result"
    }
   ],
   "source": [
    "# the coefficient of red as a prb\n",
    "coefasProb(0.0854)"
   ]
  },
  {
   "cell_type": "code",
   "execution_count": 21,
   "metadata": {},
   "outputs": [
    {
     "data": {
      "text/plain": [
       "0.5340472290832388"
      ]
     },
     "execution_count": 21,
     "metadata": {},
     "output_type": "execute_result"
    }
   ],
   "source": [
    "# the coefficient of green as a prob\n",
    "coefasProb(0.1364)"
   ]
  },
  {
   "cell_type": "markdown",
   "metadata": {},
   "source": [
    "## Case Study 3\n",
    "\n",
    "Let's add some predictor variables\n",
    "\n",
    "And make a couple of them correlated with color\n",
    "\n",
    "Then regress approval on these variables, excluding color"
   ]
  },
  {
   "cell_type": "code",
   "execution_count": 22,
   "metadata": {},
   "outputs": [],
   "source": [
    "df = defData(varname = \"eye_color\", formula=\"0.55, 0.10, 0.35\",\n",
    "             variance=\"red, blue, green\", dist=\"categorical\")\n",
    "\n",
    "df = defData(df, varname = \"gender\", formula=0.5,\n",
    "            dist=\"binary\")\n",
    "             \n",
    "df2 = genData(10000, df)\n",
    "\n",
    "defNeighborhood = defCondition(condition = \"eye_color=='blue'\", \n",
    "                    formula = \"0.75, 0.05, 0.05, 0.15\",\n",
    "                    variance = \"N1, N2, N3, N4\",\n",
    "                    dist = \"categorical\")\n",
    "\n",
    "defNeighborhood = defCondition(defNeighborhood, condition = \"eye_color=='red'\", \n",
    "                    formula = \"0.05, 0.55, 0.2, 0.2\",\n",
    "                    variance = \"N1, N2, N3, N4\",\n",
    "                    dist = \"categorical\")\n",
    "\n",
    "defNeighborhood = defCondition(defNeighborhood, condition = \"eye_color=='green'\", \n",
    "                    formula = \"0.2, 0.4, 0.3, 0.1\",\n",
    "                    variance = \"N1, N2, N3, N4\",\n",
    "                    dist = \"categorical\")\n",
    "\n",
    "defEdu = defCondition(condition = \"eye_color=='blue'\", \n",
    "                    formula = \"0.65, 0.25, 0.1\",\n",
    "                    variance = \"e1, e2, e3\",\n",
    "                    dist = \"categorical\")\n",
    "\n",
    "defEdu = defCondition(defEdu, condition = \"eye_color=='red'\", \n",
    "                    formula = \"0.2, 0.3, 0.5\",\n",
    "                    variance = \"e1, e2, e3\",\n",
    "                    dist = \"categorical\")\n",
    "\n",
    "defEdu = defCondition(defEdu, condition = \"eye_color=='green'\", \n",
    "                    formula = \"0.3, 0.4, 0.3\",\n",
    "                    variance = \"e1, e2, e3\",\n",
    "                    dist = \"categorical\")\n",
    "\n",
    "defIncome = defCondition(condition = \"education=='e1'\", \n",
    "                    formula = 500,\n",
    "                    variance = 100**2,\n",
    "                    dist = \"normal\")\n",
    "\n",
    "defIncome = defCondition(defIncome, condition = \"education=='e2'\", \n",
    "                    formula = 750,\n",
    "                    variance = 125**2,\n",
    "                    dist = \"normal\")\n",
    "\n",
    "defIncome = defCondition(defIncome, condition = \"education=='e3'\", \n",
    "                    formula = 1500,\n",
    "                    variance = 250**2,\n",
    "                    dist = \"normal\")\n",
    "\n",
    "defIncomeBiased = defCondition(condition = \"eye_color=='blue'\", \n",
    "                    formula = \"0.9*income_raw\",\n",
    "                    dist = \"nonrandom\")\n",
    "\n",
    "defIncomeBiased = defCondition(defIncomeBiased, condition = \"eye_color!='blue'\", \n",
    "                    formula = \"income_raw\",\n",
    "                    dist = \"nonrandom\")\n",
    "\n",
    "defIncomeBiasedGender = defCondition(condition = \"gender==0\", \n",
    "                        formula = \"0.95*income_biased\",\n",
    "                        dist = \"nonrandom\")\n",
    "\n",
    "defIncomeBiasedGender = defCondition(defIncomeBiasedGender, condition = \"gender==1\", \n",
    "                        formula = \"income_biased\",\n",
    "                        dist = \"nonrandom\")\n",
    "\n",
    "df3 = addCondition(defNeighborhood, df2, newvar=\"neighborhood\")\n",
    "df3 = addCondition(defEdu, df3, newvar=\"education\")\n",
    "df3 = addCondition(defIncome, df3, newvar=\"income_raw\")\n",
    "df3 = addCondition(defIncomeBiased, df3, newvar=\"income_biased\")\n",
    "df3 = addCondition(defIncomeBiasedGender, df3, newvar=\"income_biased2\")"
   ]
  },
  {
   "cell_type": "code",
   "execution_count": 23,
   "metadata": {},
   "outputs": [
    {
     "data": {
      "text/html": [
       "<div>\n",
       "<style scoped>\n",
       "    .dataframe tbody tr th:only-of-type {\n",
       "        vertical-align: middle;\n",
       "    }\n",
       "\n",
       "    .dataframe tbody tr th {\n",
       "        vertical-align: top;\n",
       "    }\n",
       "\n",
       "    .dataframe thead th {\n",
       "        text-align: right;\n",
       "    }\n",
       "</style>\n",
       "<table border=\"1\" class=\"dataframe\">\n",
       "  <thead>\n",
       "    <tr style=\"text-align: right;\">\n",
       "      <th></th>\n",
       "      <th>condition</th>\n",
       "      <th>formula</th>\n",
       "      <th>variance</th>\n",
       "      <th>dist</th>\n",
       "      <th>link</th>\n",
       "    </tr>\n",
       "  </thead>\n",
       "  <tbody>\n",
       "    <tr>\n",
       "      <th>0</th>\n",
       "      <td>eye_color=='blue'</td>\n",
       "      <td>0.75, 0.05, 0.05, 0.15</td>\n",
       "      <td>N1, N2, N3, N4</td>\n",
       "      <td>categorical</td>\n",
       "      <td>identity</td>\n",
       "    </tr>\n",
       "    <tr>\n",
       "      <th>0</th>\n",
       "      <td>eye_color=='red'</td>\n",
       "      <td>0.05, 0.55, 0.2, 0.2</td>\n",
       "      <td>N1, N2, N3, N4</td>\n",
       "      <td>categorical</td>\n",
       "      <td>identity</td>\n",
       "    </tr>\n",
       "    <tr>\n",
       "      <th>0</th>\n",
       "      <td>eye_color=='green'</td>\n",
       "      <td>0.2, 0.4, 0.3, 0.1</td>\n",
       "      <td>N1, N2, N3, N4</td>\n",
       "      <td>categorical</td>\n",
       "      <td>identity</td>\n",
       "    </tr>\n",
       "  </tbody>\n",
       "</table>\n",
       "</div>"
      ],
      "text/plain": [
       "            condition                 formula        variance         dist  \\\n",
       "0   eye_color=='blue'  0.75, 0.05, 0.05, 0.15  N1, N2, N3, N4  categorical   \n",
       "0    eye_color=='red'    0.05, 0.55, 0.2, 0.2  N1, N2, N3, N4  categorical   \n",
       "0  eye_color=='green'      0.2, 0.4, 0.3, 0.1  N1, N2, N3, N4  categorical   \n",
       "\n",
       "       link  \n",
       "0  identity  \n",
       "0  identity  \n",
       "0  identity  "
      ]
     },
     "execution_count": 23,
     "metadata": {},
     "output_type": "execute_result"
    }
   ],
   "source": [
    "defNeighborhood"
   ]
  },
  {
   "cell_type": "code",
   "execution_count": 24,
   "metadata": {},
   "outputs": [
    {
     "data": {
      "text/plain": [
       "eye_color  education\n",
       "blue       e1            654\n",
       "           e2            235\n",
       "           e3             98\n",
       "green      e2           1487\n",
       "           e1           1054\n",
       "           e3           1052\n",
       "red        e3           2731\n",
       "           e2           1623\n",
       "           e1           1066\n",
       "Name: education, dtype: int64"
      ]
     },
     "execution_count": 24,
     "metadata": {},
     "output_type": "execute_result"
    }
   ],
   "source": [
    "df3.groupby('eye_color')['education'].value_counts()"
   ]
  },
  {
   "cell_type": "code",
   "execution_count": 25,
   "metadata": {},
   "outputs": [
    {
     "data": {
      "text/plain": [
       "eye_color\n",
       "blue      664.443871\n",
       "green     893.520432\n",
       "red      1076.719182\n",
       "Name: income_raw, dtype: float64"
      ]
     },
     "execution_count": 25,
     "metadata": {},
     "output_type": "execute_result"
    }
   ],
   "source": [
    "df3.groupby('eye_color')['income_raw'].mean()"
   ]
  },
  {
   "cell_type": "code",
   "execution_count": 26,
   "metadata": {},
   "outputs": [],
   "source": [
    "m = df3['income_biased2'].mean()\n",
    "s = df3['income_biased2'].std()\n",
    "df3['income_standard'] = df3['income_biased2'].apply(lambda x: (x - m) / s)"
   ]
  },
  {
   "cell_type": "code",
   "execution_count": 27,
   "metadata": {},
   "outputs": [
    {
     "data": {
      "text/plain": [
       "eye_color\n",
       "blue    -0.782554\n",
       "green   -0.148838\n",
       "red      0.241172\n",
       "Name: income_standard, dtype: float64"
      ]
     },
     "execution_count": 27,
     "metadata": {},
     "output_type": "execute_result"
    }
   ],
   "source": [
    "df3.groupby('eye_color')['income_standard'].mean()"
   ]
  },
  {
   "cell_type": "markdown",
   "metadata": {},
   "source": [
    "Income is the only factor directly influencing approval"
   ]
  },
  {
   "cell_type": "code",
   "execution_count": 28,
   "metadata": {},
   "outputs": [
    {
     "data": {
      "text/html": [
       "<div>\n",
       "<style scoped>\n",
       "    .dataframe tbody tr th:only-of-type {\n",
       "        vertical-align: middle;\n",
       "    }\n",
       "\n",
       "    .dataframe tbody tr th {\n",
       "        vertical-align: top;\n",
       "    }\n",
       "\n",
       "    .dataframe thead th {\n",
       "        text-align: right;\n",
       "    }\n",
       "</style>\n",
       "<table border=\"1\" class=\"dataframe\">\n",
       "  <thead>\n",
       "    <tr style=\"text-align: right;\">\n",
       "      <th></th>\n",
       "      <th>varname</th>\n",
       "      <th>formula</th>\n",
       "      <th>variance</th>\n",
       "      <th>dist</th>\n",
       "      <th>link</th>\n",
       "    </tr>\n",
       "  </thead>\n",
       "  <tbody>\n",
       "    <tr>\n",
       "      <th>0</th>\n",
       "      <td>approval</td>\n",
       "      <td>0.5+(income_standard/10)</td>\n",
       "      <td>0</td>\n",
       "      <td>binary</td>\n",
       "      <td>identity</td>\n",
       "    </tr>\n",
       "  </tbody>\n",
       "</table>\n",
       "</div>"
      ],
      "text/plain": [
       "    varname                   formula  variance    dist      link\n",
       "0  approval  0.5+(income_standard/10)         0  binary  identity"
      ]
     },
     "execution_count": 28,
     "metadata": {},
     "output_type": "execute_result"
    }
   ],
   "source": [
    "defTarget =  defData(varname = \"approval\", dist = \"binary\", formula = \"0.5+(income_standard/10)\",)\n",
    "defTarget"
   ]
  },
  {
   "cell_type": "markdown",
   "metadata": {},
   "source": [
    "But, income is biased based on previous conditions"
   ]
  },
  {
   "cell_type": "code",
   "execution_count": 29,
   "metadata": {},
   "outputs": [],
   "source": [
    "df3 = addColumns(defTarget, df3)"
   ]
  },
  {
   "cell_type": "code",
   "execution_count": 30,
   "metadata": {},
   "outputs": [
    {
     "data": {
      "text/html": [
       "<div>\n",
       "<style scoped>\n",
       "    .dataframe tbody tr th:only-of-type {\n",
       "        vertical-align: middle;\n",
       "    }\n",
       "\n",
       "    .dataframe tbody tr th {\n",
       "        vertical-align: top;\n",
       "    }\n",
       "\n",
       "    .dataframe thead th {\n",
       "        text-align: right;\n",
       "    }\n",
       "</style>\n",
       "<table border=\"1\" class=\"dataframe\">\n",
       "  <thead>\n",
       "    <tr style=\"text-align: right;\">\n",
       "      <th></th>\n",
       "      <th>id</th>\n",
       "      <th>eye_color</th>\n",
       "      <th>gender</th>\n",
       "      <th>neighborhood</th>\n",
       "      <th>education</th>\n",
       "      <th>income_raw</th>\n",
       "      <th>income_biased</th>\n",
       "      <th>income_biased2</th>\n",
       "      <th>income_standard</th>\n",
       "      <th>approval</th>\n",
       "    </tr>\n",
       "  </thead>\n",
       "  <tbody>\n",
       "    <tr>\n",
       "      <th>0</th>\n",
       "      <td>32</td>\n",
       "      <td>blue</td>\n",
       "      <td>0</td>\n",
       "      <td>N4</td>\n",
       "      <td>e1</td>\n",
       "      <td>411.141290</td>\n",
       "      <td>370.027161</td>\n",
       "      <td>351.525803</td>\n",
       "      <td>-1.290413</td>\n",
       "      <td>0</td>\n",
       "    </tr>\n",
       "    <tr>\n",
       "      <th>1</th>\n",
       "      <td>77</td>\n",
       "      <td>blue</td>\n",
       "      <td>0</td>\n",
       "      <td>N1</td>\n",
       "      <td>e1</td>\n",
       "      <td>438.338918</td>\n",
       "      <td>394.505026</td>\n",
       "      <td>374.779775</td>\n",
       "      <td>-1.239418</td>\n",
       "      <td>0</td>\n",
       "    </tr>\n",
       "    <tr>\n",
       "      <th>2</th>\n",
       "      <td>115</td>\n",
       "      <td>blue</td>\n",
       "      <td>0</td>\n",
       "      <td>N1</td>\n",
       "      <td>e1</td>\n",
       "      <td>424.648182</td>\n",
       "      <td>382.183364</td>\n",
       "      <td>363.074195</td>\n",
       "      <td>-1.265087</td>\n",
       "      <td>0</td>\n",
       "    </tr>\n",
       "    <tr>\n",
       "      <th>3</th>\n",
       "      <td>171</td>\n",
       "      <td>blue</td>\n",
       "      <td>0</td>\n",
       "      <td>N1</td>\n",
       "      <td>e1</td>\n",
       "      <td>512.397416</td>\n",
       "      <td>461.157674</td>\n",
       "      <td>438.099790</td>\n",
       "      <td>-1.100559</td>\n",
       "      <td>1</td>\n",
       "    </tr>\n",
       "    <tr>\n",
       "      <th>4</th>\n",
       "      <td>204</td>\n",
       "      <td>blue</td>\n",
       "      <td>0</td>\n",
       "      <td>N1</td>\n",
       "      <td>e1</td>\n",
       "      <td>580.599278</td>\n",
       "      <td>522.539350</td>\n",
       "      <td>496.412383</td>\n",
       "      <td>-0.972682</td>\n",
       "      <td>0</td>\n",
       "    </tr>\n",
       "    <tr>\n",
       "      <th>...</th>\n",
       "      <td>...</td>\n",
       "      <td>...</td>\n",
       "      <td>...</td>\n",
       "      <td>...</td>\n",
       "      <td>...</td>\n",
       "      <td>...</td>\n",
       "      <td>...</td>\n",
       "      <td>...</td>\n",
       "      <td>...</td>\n",
       "      <td>...</td>\n",
       "    </tr>\n",
       "    <tr>\n",
       "      <th>9995</th>\n",
       "      <td>9926</td>\n",
       "      <td>green</td>\n",
       "      <td>1</td>\n",
       "      <td>N1</td>\n",
       "      <td>e3</td>\n",
       "      <td>1653.898980</td>\n",
       "      <td>1653.898980</td>\n",
       "      <td>1653.898980</td>\n",
       "      <td>1.565638</td>\n",
       "      <td>0</td>\n",
       "    </tr>\n",
       "    <tr>\n",
       "      <th>9996</th>\n",
       "      <td>9950</td>\n",
       "      <td>green</td>\n",
       "      <td>1</td>\n",
       "      <td>N2</td>\n",
       "      <td>e3</td>\n",
       "      <td>1130.632131</td>\n",
       "      <td>1130.632131</td>\n",
       "      <td>1130.632131</td>\n",
       "      <td>0.418135</td>\n",
       "      <td>1</td>\n",
       "    </tr>\n",
       "    <tr>\n",
       "      <th>9997</th>\n",
       "      <td>9981</td>\n",
       "      <td>green</td>\n",
       "      <td>1</td>\n",
       "      <td>N1</td>\n",
       "      <td>e3</td>\n",
       "      <td>1667.966166</td>\n",
       "      <td>1667.966166</td>\n",
       "      <td>1667.966166</td>\n",
       "      <td>1.596486</td>\n",
       "      <td>1</td>\n",
       "    </tr>\n",
       "    <tr>\n",
       "      <th>9998</th>\n",
       "      <td>9985</td>\n",
       "      <td>green</td>\n",
       "      <td>1</td>\n",
       "      <td>N2</td>\n",
       "      <td>e3</td>\n",
       "      <td>2022.897736</td>\n",
       "      <td>2022.897736</td>\n",
       "      <td>2022.897736</td>\n",
       "      <td>2.374836</td>\n",
       "      <td>1</td>\n",
       "    </tr>\n",
       "    <tr>\n",
       "      <th>9999</th>\n",
       "      <td>9994</td>\n",
       "      <td>green</td>\n",
       "      <td>1</td>\n",
       "      <td>N1</td>\n",
       "      <td>e3</td>\n",
       "      <td>1631.129900</td>\n",
       "      <td>1631.129900</td>\n",
       "      <td>1631.129900</td>\n",
       "      <td>1.515706</td>\n",
       "      <td>0</td>\n",
       "    </tr>\n",
       "  </tbody>\n",
       "</table>\n",
       "<p>10000 rows × 10 columns</p>\n",
       "</div>"
      ],
      "text/plain": [
       "        id eye_color  gender neighborhood education   income_raw  \\\n",
       "0       32      blue       0           N4        e1   411.141290   \n",
       "1       77      blue       0           N1        e1   438.338918   \n",
       "2      115      blue       0           N1        e1   424.648182   \n",
       "3      171      blue       0           N1        e1   512.397416   \n",
       "4      204      blue       0           N1        e1   580.599278   \n",
       "...    ...       ...     ...          ...       ...          ...   \n",
       "9995  9926     green       1           N1        e3  1653.898980   \n",
       "9996  9950     green       1           N2        e3  1130.632131   \n",
       "9997  9981     green       1           N1        e3  1667.966166   \n",
       "9998  9985     green       1           N2        e3  2022.897736   \n",
       "9999  9994     green       1           N1        e3  1631.129900   \n",
       "\n",
       "      income_biased  income_biased2  income_standard  approval  \n",
       "0        370.027161      351.525803        -1.290413         0  \n",
       "1        394.505026      374.779775        -1.239418         0  \n",
       "2        382.183364      363.074195        -1.265087         0  \n",
       "3        461.157674      438.099790        -1.100559         1  \n",
       "4        522.539350      496.412383        -0.972682         0  \n",
       "...             ...             ...              ...       ...  \n",
       "9995    1653.898980     1653.898980         1.565638         0  \n",
       "9996    1130.632131     1130.632131         0.418135         1  \n",
       "9997    1667.966166     1667.966166         1.596486         1  \n",
       "9998    2022.897736     2022.897736         2.374836         1  \n",
       "9999    1631.129900     1631.129900         1.515706         0  \n",
       "\n",
       "[10000 rows x 10 columns]"
      ]
     },
     "execution_count": 30,
     "metadata": {},
     "output_type": "execute_result"
    }
   ],
   "source": [
    "df3"
   ]
  },
  {
   "cell_type": "code",
   "execution_count": 31,
   "metadata": {},
   "outputs": [
    {
     "data": {
      "text/plain": [
       "'/Users/davidcruz/Desktop/Side_Projects/simulacra-fake-data'"
      ]
     },
     "execution_count": 31,
     "metadata": {},
     "output_type": "execute_result"
    }
   ],
   "source": [
    "os.getcwd()"
   ]
  },
  {
   "cell_type": "code",
   "execution_count": 32,
   "metadata": {},
   "outputs": [],
   "source": [
    "df3.to_csv('/Users/davidcruz/Desktop/Side_Projects/simulacra-fake-data/approval-fake.csv')"
   ]
  },
  {
   "cell_type": "code",
   "execution_count": 33,
   "metadata": {},
   "outputs": [
    {
     "data": {
      "text/plain": [
       "eye_color  approval\n",
       "blue       0           0.568389\n",
       "           1           0.431611\n",
       "green      0           0.523518\n",
       "           1           0.476482\n",
       "red        1           0.519373\n",
       "           0           0.480627\n",
       "Name: approval, dtype: float64"
      ]
     },
     "execution_count": 33,
     "metadata": {},
     "output_type": "execute_result"
    }
   ],
   "source": [
    "df3.groupby('eye_color')['approval'].value_counts(normalize=True)"
   ]
  },
  {
   "cell_type": "code",
   "execution_count": 34,
   "metadata": {},
   "outputs": [
    {
     "data": {
      "text/plain": [
       "education  approval\n",
       "e1         0           0.614996\n",
       "           1           0.385004\n",
       "e2         0           0.536622\n",
       "           1           0.463378\n",
       "e3         1           0.601649\n",
       "           0           0.398351\n",
       "Name: approval, dtype: float64"
      ]
     },
     "execution_count": 34,
     "metadata": {},
     "output_type": "execute_result"
    }
   ],
   "source": [
    "df3.groupby('education')['approval'].value_counts(normalize=True)"
   ]
  },
  {
   "cell_type": "code",
   "execution_count": 35,
   "metadata": {},
   "outputs": [
    {
     "name": "stdout",
     "output_type": "stream",
     "text": [
      "                 Generalized Linear Model Regression Results                  \n",
      "==============================================================================\n",
      "Dep. Variable:               approval   No. Observations:                10000\n",
      "Model:                            GLM   Df Residuals:                     9990\n",
      "Model Family:                Binomial   Df Model:                            9\n",
      "Link Function:                  Logit   Scale:                          1.0000\n",
      "Method:                          IRLS   Log-Likelihood:                -6726.4\n",
      "Date:                Thu, 25 Aug 2022   Deviance:                       13453.\n",
      "Time:                        17:08:14   Pearson chi2:                 1.00e+04\n",
      "No. Iterations:                     6   Pseudo R-squ. (CS):            0.04011\n",
      "Covariance Type:            nonrobust                                         \n",
      "===================================================================================\n",
      "                      coef    std err          z      P>|z|      [0.025      0.975]\n",
      "-----------------------------------------------------------------------------------\n",
      "gender              0.0066      0.041      0.161      0.872      -0.074       0.087\n",
      "income_standard     0.4829      0.054      8.861      0.000       0.376       0.590\n",
      "const               0.0017      0.019      0.090      0.928      -0.035       0.039\n",
      "eye_color_blue      0.0721      0.059      1.228      0.220      -0.043       0.187\n",
      "eye_color_green    -0.0454      0.034     -1.352      0.177      -0.111       0.020\n",
      "eye_color_red      -0.0250      0.035     -0.709      0.478      -0.094       0.044\n",
      "neighborhood_N1    -0.0005      0.048     -0.010      0.992      -0.095       0.094\n",
      "neighborhood_N2     0.0261      0.033      0.791      0.429      -0.039       0.091\n",
      "neighborhood_N3    -0.0119      0.040     -0.295      0.768      -0.091       0.067\n",
      "neighborhood_N4    -0.0121      0.044     -0.271      0.786      -0.099       0.075\n",
      "education_e1        0.0192      0.059      0.327      0.743      -0.096       0.134\n",
      "education_e2        0.0929      0.036      2.563      0.010       0.022       0.164\n",
      "education_e3       -0.1105      0.071     -1.557      0.119      -0.250       0.029\n",
      "===================================================================================\n"
     ]
    }
   ],
   "source": [
    "df3['const'] = 1\n",
    "mod = sm.GLM(df3['approval'], pd.get_dummies(df3.drop(['id', 'approval', 'income_raw', \n",
    "            'income_biased', 'income_biased2'], axis = 1)),\n",
    "            family=sm.families.Binomial())\n",
    "res = mod.fit()\n",
    "print(res.summary())"
   ]
  },
  {
   "cell_type": "code",
   "execution_count": 36,
   "metadata": {},
   "outputs": [
    {
     "data": {
      "text/plain": [
       "0.4859287166041853"
      ]
     },
     "execution_count": 36,
     "metadata": {},
     "output_type": "execute_result"
    }
   ],
   "source": [
    "coefasProb(-0.0563)"
   ]
  },
  {
   "cell_type": "code",
   "execution_count": 37,
   "metadata": {},
   "outputs": [
    {
     "data": {
      "text/plain": [
       "0.5076244089586274"
      ]
     },
     "execution_count": 37,
     "metadata": {},
     "output_type": "execute_result"
    }
   ],
   "source": [
    "coefasProb(0.0305)"
   ]
  },
  {
   "cell_type": "code",
   "execution_count": 38,
   "metadata": {},
   "outputs": [
    {
     "data": {
      "text/plain": [
       "0.5018749912109869"
      ]
     },
     "execution_count": 38,
     "metadata": {},
     "output_type": "execute_result"
    }
   ],
   "source": [
    "coefasProb(0.0075)"
   ]
  },
  {
   "cell_type": "code",
   "execution_count": 39,
   "metadata": {},
   "outputs": [
    {
     "name": "stdout",
     "output_type": "stream",
     "text": [
      "                 Generalized Linear Model Regression Results                  \n",
      "==============================================================================\n",
      "Dep. Variable:               approval   No. Observations:                10000\n",
      "Model:                            GLM   Df Residuals:                     9992\n",
      "Model Family:                Binomial   Df Model:                            7\n",
      "Link Function:                  Logit   Scale:                          1.0000\n",
      "Method:                          IRLS   Log-Likelihood:                -6727.3\n",
      "Date:                Thu, 25 Aug 2022   Deviance:                       13455.\n",
      "Time:                        17:08:14   Pearson chi2:                 1.00e+04\n",
      "No. Iterations:                    10   Pseudo R-squ. (CS):            0.03992\n",
      "Covariance Type:            nonrobust                                         \n",
      "===================================================================================\n",
      "                      coef    std err          z      P>|z|      [0.025      0.975]\n",
      "-----------------------------------------------------------------------------------\n",
      "gender              0.0071      0.041      0.173      0.863      -0.074       0.088\n",
      "income_standard     0.4766      0.054      8.784      0.000       0.370       0.583\n",
      "const              -0.0106      0.020     -0.525      0.599      -0.050       0.029\n",
      "neighborhood_N1     0.0225      0.043      0.527      0.598      -0.061       0.106\n",
      "neighborhood_N2     0.0122      0.030      0.405      0.686      -0.047       0.071\n",
      "neighborhood_N3    -0.0290      0.038     -0.755      0.450      -0.104       0.046\n",
      "neighborhood_N4    -0.0163      0.044     -0.373      0.709      -0.102       0.069\n",
      "education_e1        0.0181      0.059      0.305      0.760      -0.098       0.134\n",
      "education_e2        0.0818      0.036      2.284      0.022       0.012       0.152\n",
      "education_e3       -0.1104      0.070     -1.569      0.117      -0.248       0.028\n",
      "===================================================================================\n"
     ]
    }
   ],
   "source": [
    "df3['const'] = 1\n",
    "mod = sm.GLM(df3['approval'], pd.get_dummies(df3.drop(['id', 'approval', 'income_raw', 'eye_color',\n",
    "            'income_biased', 'income_biased2'], axis = 1)),\n",
    "            family=sm.families.Binomial())\n",
    "            \n",
    "res = mod.fit()\n",
    "print(res.summary())"
   ]
  },
  {
   "cell_type": "code",
   "execution_count": 40,
   "metadata": {},
   "outputs": [
    {
     "data": {
      "text/plain": [
       "Index(['id', 'eye_color', 'gender', 'neighborhood', 'education', 'income_raw',\n",
       "       'income_biased', 'income_biased2', 'income_standard', 'approval',\n",
       "       'const'],\n",
       "      dtype='object')"
      ]
     },
     "execution_count": 40,
     "metadata": {},
     "output_type": "execute_result"
    }
   ],
   "source": [
    "df3.columns"
   ]
  },
  {
   "cell_type": "code",
   "execution_count": 41,
   "metadata": {},
   "outputs": [
    {
     "data": {
      "text/html": [
       "<div>\n",
       "<style scoped>\n",
       "    .dataframe tbody tr th:only-of-type {\n",
       "        vertical-align: middle;\n",
       "    }\n",
       "\n",
       "    .dataframe tbody tr th {\n",
       "        vertical-align: top;\n",
       "    }\n",
       "\n",
       "    .dataframe thead th {\n",
       "        text-align: right;\n",
       "    }\n",
       "</style>\n",
       "<table border=\"1\" class=\"dataframe\">\n",
       "  <thead>\n",
       "    <tr style=\"text-align: right;\">\n",
       "      <th></th>\n",
       "      <th>gender</th>\n",
       "      <th>income_standard</th>\n",
       "      <th>const</th>\n",
       "      <th>eye_color_blue</th>\n",
       "      <th>eye_color_green</th>\n",
       "      <th>eye_color_red</th>\n",
       "      <th>neighborhood_N1</th>\n",
       "      <th>neighborhood_N2</th>\n",
       "      <th>neighborhood_N3</th>\n",
       "      <th>neighborhood_N4</th>\n",
       "      <th>education_e1</th>\n",
       "      <th>education_e2</th>\n",
       "      <th>education_e3</th>\n",
       "    </tr>\n",
       "  </thead>\n",
       "  <tbody>\n",
       "    <tr>\n",
       "      <th>0</th>\n",
       "      <td>0</td>\n",
       "      <td>-1.290413</td>\n",
       "      <td>1</td>\n",
       "      <td>1</td>\n",
       "      <td>0</td>\n",
       "      <td>0</td>\n",
       "      <td>0</td>\n",
       "      <td>0</td>\n",
       "      <td>0</td>\n",
       "      <td>1</td>\n",
       "      <td>1</td>\n",
       "      <td>0</td>\n",
       "      <td>0</td>\n",
       "    </tr>\n",
       "    <tr>\n",
       "      <th>1</th>\n",
       "      <td>0</td>\n",
       "      <td>-1.239418</td>\n",
       "      <td>1</td>\n",
       "      <td>1</td>\n",
       "      <td>0</td>\n",
       "      <td>0</td>\n",
       "      <td>1</td>\n",
       "      <td>0</td>\n",
       "      <td>0</td>\n",
       "      <td>0</td>\n",
       "      <td>1</td>\n",
       "      <td>0</td>\n",
       "      <td>0</td>\n",
       "    </tr>\n",
       "    <tr>\n",
       "      <th>2</th>\n",
       "      <td>0</td>\n",
       "      <td>-1.265087</td>\n",
       "      <td>1</td>\n",
       "      <td>1</td>\n",
       "      <td>0</td>\n",
       "      <td>0</td>\n",
       "      <td>1</td>\n",
       "      <td>0</td>\n",
       "      <td>0</td>\n",
       "      <td>0</td>\n",
       "      <td>1</td>\n",
       "      <td>0</td>\n",
       "      <td>0</td>\n",
       "    </tr>\n",
       "    <tr>\n",
       "      <th>3</th>\n",
       "      <td>0</td>\n",
       "      <td>-1.100559</td>\n",
       "      <td>1</td>\n",
       "      <td>1</td>\n",
       "      <td>0</td>\n",
       "      <td>0</td>\n",
       "      <td>1</td>\n",
       "      <td>0</td>\n",
       "      <td>0</td>\n",
       "      <td>0</td>\n",
       "      <td>1</td>\n",
       "      <td>0</td>\n",
       "      <td>0</td>\n",
       "    </tr>\n",
       "    <tr>\n",
       "      <th>4</th>\n",
       "      <td>0</td>\n",
       "      <td>-0.972682</td>\n",
       "      <td>1</td>\n",
       "      <td>1</td>\n",
       "      <td>0</td>\n",
       "      <td>0</td>\n",
       "      <td>1</td>\n",
       "      <td>0</td>\n",
       "      <td>0</td>\n",
       "      <td>0</td>\n",
       "      <td>1</td>\n",
       "      <td>0</td>\n",
       "      <td>0</td>\n",
       "    </tr>\n",
       "    <tr>\n",
       "      <th>...</th>\n",
       "      <td>...</td>\n",
       "      <td>...</td>\n",
       "      <td>...</td>\n",
       "      <td>...</td>\n",
       "      <td>...</td>\n",
       "      <td>...</td>\n",
       "      <td>...</td>\n",
       "      <td>...</td>\n",
       "      <td>...</td>\n",
       "      <td>...</td>\n",
       "      <td>...</td>\n",
       "      <td>...</td>\n",
       "      <td>...</td>\n",
       "    </tr>\n",
       "    <tr>\n",
       "      <th>9995</th>\n",
       "      <td>1</td>\n",
       "      <td>1.565638</td>\n",
       "      <td>1</td>\n",
       "      <td>0</td>\n",
       "      <td>1</td>\n",
       "      <td>0</td>\n",
       "      <td>1</td>\n",
       "      <td>0</td>\n",
       "      <td>0</td>\n",
       "      <td>0</td>\n",
       "      <td>0</td>\n",
       "      <td>0</td>\n",
       "      <td>1</td>\n",
       "    </tr>\n",
       "    <tr>\n",
       "      <th>9996</th>\n",
       "      <td>1</td>\n",
       "      <td>0.418135</td>\n",
       "      <td>1</td>\n",
       "      <td>0</td>\n",
       "      <td>1</td>\n",
       "      <td>0</td>\n",
       "      <td>0</td>\n",
       "      <td>1</td>\n",
       "      <td>0</td>\n",
       "      <td>0</td>\n",
       "      <td>0</td>\n",
       "      <td>0</td>\n",
       "      <td>1</td>\n",
       "    </tr>\n",
       "    <tr>\n",
       "      <th>9997</th>\n",
       "      <td>1</td>\n",
       "      <td>1.596486</td>\n",
       "      <td>1</td>\n",
       "      <td>0</td>\n",
       "      <td>1</td>\n",
       "      <td>0</td>\n",
       "      <td>1</td>\n",
       "      <td>0</td>\n",
       "      <td>0</td>\n",
       "      <td>0</td>\n",
       "      <td>0</td>\n",
       "      <td>0</td>\n",
       "      <td>1</td>\n",
       "    </tr>\n",
       "    <tr>\n",
       "      <th>9998</th>\n",
       "      <td>1</td>\n",
       "      <td>2.374836</td>\n",
       "      <td>1</td>\n",
       "      <td>0</td>\n",
       "      <td>1</td>\n",
       "      <td>0</td>\n",
       "      <td>0</td>\n",
       "      <td>1</td>\n",
       "      <td>0</td>\n",
       "      <td>0</td>\n",
       "      <td>0</td>\n",
       "      <td>0</td>\n",
       "      <td>1</td>\n",
       "    </tr>\n",
       "    <tr>\n",
       "      <th>9999</th>\n",
       "      <td>1</td>\n",
       "      <td>1.515706</td>\n",
       "      <td>1</td>\n",
       "      <td>0</td>\n",
       "      <td>1</td>\n",
       "      <td>0</td>\n",
       "      <td>1</td>\n",
       "      <td>0</td>\n",
       "      <td>0</td>\n",
       "      <td>0</td>\n",
       "      <td>0</td>\n",
       "      <td>0</td>\n",
       "      <td>1</td>\n",
       "    </tr>\n",
       "  </tbody>\n",
       "</table>\n",
       "<p>10000 rows × 13 columns</p>\n",
       "</div>"
      ],
      "text/plain": [
       "      gender  income_standard  const  eye_color_blue  eye_color_green  \\\n",
       "0          0        -1.290413      1               1                0   \n",
       "1          0        -1.239418      1               1                0   \n",
       "2          0        -1.265087      1               1                0   \n",
       "3          0        -1.100559      1               1                0   \n",
       "4          0        -0.972682      1               1                0   \n",
       "...      ...              ...    ...             ...              ...   \n",
       "9995       1         1.565638      1               0                1   \n",
       "9996       1         0.418135      1               0                1   \n",
       "9997       1         1.596486      1               0                1   \n",
       "9998       1         2.374836      1               0                1   \n",
       "9999       1         1.515706      1               0                1   \n",
       "\n",
       "      eye_color_red  neighborhood_N1  neighborhood_N2  neighborhood_N3  \\\n",
       "0                 0                0                0                0   \n",
       "1                 0                1                0                0   \n",
       "2                 0                1                0                0   \n",
       "3                 0                1                0                0   \n",
       "4                 0                1                0                0   \n",
       "...             ...              ...              ...              ...   \n",
       "9995              0                1                0                0   \n",
       "9996              0                0                1                0   \n",
       "9997              0                1                0                0   \n",
       "9998              0                0                1                0   \n",
       "9999              0                1                0                0   \n",
       "\n",
       "      neighborhood_N4  education_e1  education_e2  education_e3  \n",
       "0                   1             1             0             0  \n",
       "1                   0             1             0             0  \n",
       "2                   0             1             0             0  \n",
       "3                   0             1             0             0  \n",
       "4                   0             1             0             0  \n",
       "...               ...           ...           ...           ...  \n",
       "9995                0             0             0             1  \n",
       "9996                0             0             0             1  \n",
       "9997                0             0             0             1  \n",
       "9998                0             0             0             1  \n",
       "9999                0             0             0             1  \n",
       "\n",
       "[10000 rows x 13 columns]"
      ]
     },
     "execution_count": 41,
     "metadata": {},
     "output_type": "execute_result"
    }
   ],
   "source": [
    "pd.get_dummies(df3.drop(['id', 'approval', 'income_raw', \n",
    "            'income_biased', 'income_biased2'], axis = 1))"
   ]
  },
  {
   "cell_type": "code",
   "execution_count": 42,
   "metadata": {},
   "outputs": [],
   "source": [
    "from sklearn.utils import compute_sample_weight, resample\n",
    "\n",
    "from sklearn.model_selection import  train_test_split, StratifiedKFold, GridSearchCV, KFold\n",
    "from sklearn.pipeline import Pipeline, make_pipeline\n",
    "from sklearn.preprocessing import StandardScaler, MinMaxScaler\n",
    "from sklearn.model_selection import train_test_split, cross_val_score\n",
    "from sklearn.linear_model import LogisticRegression, Ridge, RidgeCV, RidgeClassifier, RidgeClassifierCV, LinearRegression, Lasso\n",
    "from sklearn.feature_selection import SelectFromModel\n",
    "from sklearn.model_selection import StratifiedKFold\n",
    "# from xgboost import XGBClassifier\n",
    "from sklearn.ensemble import RandomForestRegressor\n",
    "from sklearn.tree import DecisionTreeRegressor\n",
    "\n",
    "from sklearn import tree\n",
    "\n",
    "from sklearn.metrics import classification_report, mean_squared_error, r2_score\n",
    "\n",
    "from sklearn.preprocessing import OneHotEncoder\n",
    "from sklearn.compose import make_column_transformer\n",
    "from sklearn.pipeline import make_pipeline, Pipeline"
   ]
  },
  {
   "cell_type": "code",
   "execution_count": 43,
   "metadata": {},
   "outputs": [],
   "source": [
    "X = df3.drop(['id', 'approval', 'income_raw',\n",
    "            'income_biased', 'income_biased2'], axis = 1)"
   ]
  },
  {
   "cell_type": "code",
   "execution_count": 44,
   "metadata": {},
   "outputs": [],
   "source": [
    "y = df3['approval']"
   ]
  },
  {
   "cell_type": "code",
   "execution_count": 45,
   "metadata": {},
   "outputs": [],
   "source": [
    "# establish categorical variables in X\n",
    "categorical = X.dtypes == object\n",
    "# preprocessing pipeline\n",
    "preprocess = make_column_transformer(\n",
    "    (StandardScaler(), ~categorical),\n",
    "    (OneHotEncoder(handle_unknown = 'ignore'), categorical)\n",
    ")\n",
    "\n",
    "cv = KFold(n_splits = 5)"
   ]
  },
  {
   "cell_type": "code",
   "execution_count": 46,
   "metadata": {},
   "outputs": [],
   "source": [
    "X_train, X_test, y_train, y_test = train_test_split(X, y, test_size=0.33, random_state=42)\n",
    "model = make_pipeline(preprocess, LogisticRegression())\n",
    "model.fit(X_train, y_train);"
   ]
  },
  {
   "cell_type": "code",
   "execution_count": 47,
   "metadata": {},
   "outputs": [],
   "source": [
    "cat_names = ['eye_color', 'neighborhood', 'education']\n",
    "final_feature_names = categorical[~categorical].index.values.tolist() + \\\n",
    "                      preprocess.transformers_[1][1].get_feature_names_out(cat_names).tolist()\n",
    "\n",
    "coefs = model.named_steps['logisticregression'].coef_[0]\n",
    "\n",
    "featureImportance_df = pd.Series(data = coefs, \n",
    "                                 index = final_feature_names, \n",
    "                                 name = 'coefs').\\\n",
    "                        sort_values(ascending = False, key = np.abs)"
   ]
  },
  {
   "cell_type": "code",
   "execution_count": 48,
   "metadata": {},
   "outputs": [
    {
     "data": {
      "image/png": "[encoded data removed]",
      "text/plain": [
       "<Figure size 576x576 with 1 Axes>"
      ]
     },
     "metadata": {
      "needs_background": "light"
     },
     "output_type": "display_data"
    }
   ],
   "source": [
    "# setting a y_axis variable allows to flip chart for easier reading        \n",
    "yax = np.arange(len(featureImportance_df))\n",
    "\n",
    "fig, ax = plt.subplots(1, 1, figsize = (8,8))\n",
    "\n",
    "ax.plot(featureImportance_df, yax, 'o', c='r')\n",
    "ax.set_yticks(range(len(featureImportance_df)))\n",
    "ax.yaxis.tick_right()\n",
    "ax.set_yticklabels(featureImportance_df.index,rotation = 0)\n",
    "ax.set_title('lasso'.capitalize()+' Coefficients\\nTarget Variable Name: '+str(y.name))\n",
    "ax.axvline(0)\n",
    "\n",
    "plt.show()"
   ]
  },
  {
   "cell_type": "code",
   "execution_count": 55,
   "metadata": {},
   "outputs": [
    {
     "data": {
      "text/plain": [
       "N1    0.766971\n",
       "N4    0.145897\n",
       "N2    0.053698\n",
       "N3    0.033435\n",
       "Name: neighborhood, dtype: float64"
      ]
     },
     "execution_count": 55,
     "metadata": {},
     "output_type": "execute_result"
    }
   ],
   "source": [
    "df3[df3['eye_color'] == 'blue']['neighborhood'].value_counts(normalize=True)"
   ]
  },
  {
   "cell_type": "code",
   "execution_count": 50,
   "metadata": {},
   "outputs": [
    {
     "data": {
      "text/html": [
       "<div>\n",
       "<style scoped>\n",
       "    .dataframe tbody tr th:only-of-type {\n",
       "        vertical-align: middle;\n",
       "    }\n",
       "\n",
       "    .dataframe tbody tr th {\n",
       "        vertical-align: top;\n",
       "    }\n",
       "\n",
       "    .dataframe thead th {\n",
       "        text-align: right;\n",
       "    }\n",
       "</style>\n",
       "<table border=\"1\" class=\"dataframe\">\n",
       "  <thead>\n",
       "    <tr style=\"text-align: right;\">\n",
       "      <th></th>\n",
       "      <th>gender</th>\n",
       "      <th>neighborhood</th>\n",
       "      <th>education</th>\n",
       "      <th>income_standard</th>\n",
       "      <th>const</th>\n",
       "    </tr>\n",
       "  </thead>\n",
       "  <tbody>\n",
       "    <tr>\n",
       "      <th>8371</th>\n",
       "      <td>1</td>\n",
       "      <td>N2</td>\n",
       "      <td>e3</td>\n",
       "      <td>0.941888</td>\n",
       "      <td>1</td>\n",
       "    </tr>\n",
       "    <tr>\n",
       "      <th>5027</th>\n",
       "      <td>1</td>\n",
       "      <td>N1</td>\n",
       "      <td>e1</td>\n",
       "      <td>-0.454713</td>\n",
       "      <td>1</td>\n",
       "    </tr>\n",
       "    <tr>\n",
       "      <th>9234</th>\n",
       "      <td>1</td>\n",
       "      <td>N2</td>\n",
       "      <td>e3</td>\n",
       "      <td>1.829816</td>\n",
       "      <td>1</td>\n",
       "    </tr>\n",
       "    <tr>\n",
       "      <th>3944</th>\n",
       "      <td>0</td>\n",
       "      <td>N2</td>\n",
       "      <td>e3</td>\n",
       "      <td>0.861143</td>\n",
       "      <td>1</td>\n",
       "    </tr>\n",
       "    <tr>\n",
       "      <th>6862</th>\n",
       "      <td>1</td>\n",
       "      <td>N2</td>\n",
       "      <td>e2</td>\n",
       "      <td>-0.206780</td>\n",
       "      <td>1</td>\n",
       "    </tr>\n",
       "    <tr>\n",
       "      <th>...</th>\n",
       "      <td>...</td>\n",
       "      <td>...</td>\n",
       "      <td>...</td>\n",
       "      <td>...</td>\n",
       "      <td>...</td>\n",
       "    </tr>\n",
       "    <tr>\n",
       "      <th>5734</th>\n",
       "      <td>1</td>\n",
       "      <td>N2</td>\n",
       "      <td>e1</td>\n",
       "      <td>-0.902034</td>\n",
       "      <td>1</td>\n",
       "    </tr>\n",
       "    <tr>\n",
       "      <th>5191</th>\n",
       "      <td>1</td>\n",
       "      <td>N1</td>\n",
       "      <td>e1</td>\n",
       "      <td>-1.043161</td>\n",
       "      <td>1</td>\n",
       "    </tr>\n",
       "    <tr>\n",
       "      <th>5390</th>\n",
       "      <td>1</td>\n",
       "      <td>N1</td>\n",
       "      <td>e3</td>\n",
       "      <td>0.759118</td>\n",
       "      <td>1</td>\n",
       "    </tr>\n",
       "    <tr>\n",
       "      <th>860</th>\n",
       "      <td>0</td>\n",
       "      <td>N2</td>\n",
       "      <td>e1</td>\n",
       "      <td>-1.016227</td>\n",
       "      <td>1</td>\n",
       "    </tr>\n",
       "    <tr>\n",
       "      <th>7270</th>\n",
       "      <td>1</td>\n",
       "      <td>N4</td>\n",
       "      <td>e2</td>\n",
       "      <td>-0.002524</td>\n",
       "      <td>1</td>\n",
       "    </tr>\n",
       "  </tbody>\n",
       "</table>\n",
       "<p>6700 rows × 5 columns</p>\n",
       "</div>"
      ],
      "text/plain": [
       "      gender neighborhood education  income_standard  const\n",
       "8371       1           N2        e3         0.941888      1\n",
       "5027       1           N1        e1        -0.454713      1\n",
       "9234       1           N2        e3         1.829816      1\n",
       "3944       0           N2        e3         0.861143      1\n",
       "6862       1           N2        e2        -0.206780      1\n",
       "...      ...          ...       ...              ...    ...\n",
       "5734       1           N2        e1        -0.902034      1\n",
       "5191       1           N1        e1        -1.043161      1\n",
       "5390       1           N1        e3         0.759118      1\n",
       "860        0           N2        e1        -1.016227      1\n",
       "7270       1           N4        e2        -0.002524      1\n",
       "\n",
       "[6700 rows x 5 columns]"
      ]
     },
     "execution_count": 50,
     "metadata": {},
     "output_type": "execute_result"
    }
   ],
   "source": [
    "X_train"
   ]
  },
  {
   "cell_type": "code",
   "execution_count": 51,
   "metadata": {},
   "outputs": [
    {
     "data": {
      "text/plain": [
       "0    3445\n",
       "1    3255\n",
       "Name: gender, dtype: int64"
      ]
     },
     "execution_count": 51,
     "metadata": {},
     "output_type": "execute_result"
    }
   ],
   "source": [
    "X_train['gender'].value_counts()[X_train['gender'].value_counts() > 1].reset_index()['gender']"
   ]
  },
  {
   "cell_type": "code",
   "execution_count": 52,
   "metadata": {},
   "outputs": [],
   "source": [
    "y_pred = model.predict(X_test)"
   ]
  }
 ],
 "metadata": {
  "kernelspec": {
   "display_name": "Python 3.8.2 64-bit",
   "language": "python",
   "name": "python3"
  },
  "language_info": {
   "codemirror_mode": {
    "name": "ipython",
    "version": 3
   },
   "file_extension": ".py",
   "mimetype": "text/x-python",
   "name": "python",
   "nbconvert_exporter": "python",
   "pygments_lexer": "ipython3",
   "version": "3.8.2"
  },
  "metadata": {
   "interpreter": {
    "hash": "31f2aee4e71d21fbe5cf8b01ff0e069b9275f58929596ceb00d14d90e3e16cd6"
   }
  },
  "vscode": {
   "interpreter": {
    "hash": "31f2aee4e71d21fbe5cf8b01ff0e069b9275f58929596ceb00d14d90e3e16cd6"
   }
  }
 },
 "nbformat": 4,
 "nbformat_minor": 2
}
