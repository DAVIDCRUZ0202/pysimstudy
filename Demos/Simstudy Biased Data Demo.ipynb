{
 "cells": [
  {
   "cell_type": "markdown",
   "metadata": {},
   "source": [
    "## Creating Biased Datasets Using Simstudy\n",
    "\n",
    "In this notebook, we will be using Simstudy to simulate a dataset in which certain outcomes are biased, conditional on certain characteristics. We aim to demonstrate how Simstudy can be used to develop accelerators, as well as Trustworthy AI demos. By specifying the relationships between inputs and outputs ahead of time, we can see how well different algorithms do at estimating these relationships."
   ]
  },
  {
   "cell_type": "code",
   "execution_count": 1,
   "metadata": {},
   "outputs": [
    {
     "name": "stdout",
     "output_type": "stream",
     "text": [
      "/Users/davidcruz/Desktop/pysimstudy\n"
     ]
    }
   ],
   "source": [
    "cd ../"
   ]
  },
  {
   "cell_type": "code",
   "execution_count": 2,
   "metadata": {},
   "outputs": [],
   "source": [
    "import math\n",
    "import pandas as pd\n",
    "import numpy as np\n",
    "import random\n",
    "from scipy import special\n",
    "import seaborn as sns\n",
    "import matplotlib.pyplot as plt\n",
    "\n",
    "from py_scripts.generate_dist import *\n",
    "from py_scripts.group_data import *\n",
    "from py_scripts.define_data import *\n",
    "from py_scripts.generate_data import *\n",
    "from py_scripts.add_data import *\n",
    "from py_scripts.asserts import *\n",
    "\n",
    "import statsmodels.api as sm\n",
    "\n",
    "np.random.seed(42)\n",
    "\n",
    "def coefasProb(coef):\n",
    "    return np.exp(coef) / (1 + np.exp(coef))"
   ]
  },
  {
   "cell_type": "markdown",
   "metadata": {},
   "source": [
    "Let's start with the building blocks of the pysimstudy package. \n",
    "\n",
    "The goal of this first example is to display the core steps in generating data with pysimstudy, while also exploring the art of whats possible through interesting questions of statistical nature. We will work to create a dataset of people represented by an arbitrary id, along with their income. The target variable will be approval, which will be biased to have more approvals if your income is higher. Our goal is to show that we can hard-code bias into an approval rating process based on a random variable.\n",
    "\n",
    "The first step is to define a _definitions_ data table in which we describe the variables we want to generate. We pass arguments to define the generated variable's name (varname), as well as its statistical parameters. The _formula_ argument refers to the variable's mean, or expected value, and _variance_ is self evident. The _formula_ argument allows you to pass an equation to generate your data. In the example below, we want our __income__ variable to be centered at 5000, but as we will see later on, we can also make the formula dependent on previously written data definitions to generate complex dependencies in the synthetic data. Note that the _variance_ argument is squared in this case, since the standard deviation is the square-root of variance."
   ]
  },
  {
   "cell_type": "code",
   "execution_count": 3,
   "metadata": {},
   "outputs": [
    {
     "data": {
      "text/html": [
       "<div>\n",
       "<style scoped>\n",
       "    .dataframe tbody tr th:only-of-type {\n",
       "        vertical-align: middle;\n",
       "    }\n",
       "\n",
       "    .dataframe tbody tr th {\n",
       "        vertical-align: top;\n",
       "    }\n",
       "\n",
       "    .dataframe thead th {\n",
       "        text-align: right;\n",
       "    }\n",
       "</style>\n",
       "<table border=\"1\" class=\"dataframe\">\n",
       "  <thead>\n",
       "    <tr style=\"text-align: right;\">\n",
       "      <th></th>\n",
       "      <th>varname</th>\n",
       "      <th>formula</th>\n",
       "      <th>variance</th>\n",
       "      <th>dist</th>\n",
       "      <th>link</th>\n",
       "    </tr>\n",
       "  </thead>\n",
       "  <tbody>\n",
       "    <tr>\n",
       "      <th>0</th>\n",
       "      <td>income</td>\n",
       "      <td>5000</td>\n",
       "      <td>1000**2</td>\n",
       "      <td>normal</td>\n",
       "      <td>identity</td>\n",
       "    </tr>\n",
       "  </tbody>\n",
       "</table>\n",
       "</div>"
      ],
      "text/plain": [
       "  varname  formula variance    dist      link\n",
       "0  income     5000  1000**2  normal  identity"
      ]
     },
     "execution_count": 3,
     "metadata": {},
     "output_type": "execute_result"
    }
   ],
   "source": [
    "ddf = defData(varname = \"income\", formula=5000,\n",
    "             variance=\"1000**2\", dist=\"normal\")\n",
    "# We wil generate our first dataset with the following line of code\n",
    "# this wil allow us to implement conditions onto the generated data\n",
    "gdf = genData(10000, ddf)\n",
    "# Now we can create conditions to influence our data\n",
    "defC = defCondition(condition = \"income >= 6000\", formula = \"0.9\",\n",
    "                    dist = \"binary\")\n",
    "\n",
    "defC = defCondition(defC, condition = \"(income < 6000) & (income >= 4000)\", formula = 0.65,\n",
    "                    dist = \"binary\")\n",
    "\n",
    "defC = defCondition(defC, condition = \"(income < 4000)\", formula = 0.4,\n",
    "                    dist = \"binary\")\n",
    "\n",
    "ddf"
   ]
  },
  {
   "cell_type": "markdown",
   "metadata": {},
   "source": [
    "Now that we created the conditions for our dataset, we can generate observations based on the previously defined conditions."
   ]
  },
  {
   "cell_type": "code",
   "execution_count": 4,
   "metadata": {},
   "outputs": [],
   "source": [
    "gdfb = addCondition(defC, gdf, newvar=\"approval_bias\")"
   ]
  },
  {
   "cell_type": "code",
   "execution_count": 5,
   "metadata": {},
   "outputs": [
    {
     "data": {
      "text/html": [
       "<div>\n",
       "<style scoped>\n",
       "    .dataframe tbody tr th:only-of-type {\n",
       "        vertical-align: middle;\n",
       "    }\n",
       "\n",
       "    .dataframe tbody tr th {\n",
       "        vertical-align: top;\n",
       "    }\n",
       "\n",
       "    .dataframe thead th {\n",
       "        text-align: right;\n",
       "    }\n",
       "</style>\n",
       "<table border=\"1\" class=\"dataframe\">\n",
       "  <thead>\n",
       "    <tr style=\"text-align: right;\">\n",
       "      <th></th>\n",
       "      <th>id</th>\n",
       "      <th>income</th>\n",
       "      <th>approval_bias</th>\n",
       "    </tr>\n",
       "  </thead>\n",
       "  <tbody>\n",
       "    <tr>\n",
       "      <th>0</th>\n",
       "      <td>3</td>\n",
       "      <td>6523.029856</td>\n",
       "      <td>1</td>\n",
       "    </tr>\n",
       "    <tr>\n",
       "      <th>1</th>\n",
       "      <td>6</td>\n",
       "      <td>6579.212816</td>\n",
       "      <td>1</td>\n",
       "    </tr>\n",
       "    <tr>\n",
       "      <th>2</th>\n",
       "      <td>20</td>\n",
       "      <td>6465.648769</td>\n",
       "      <td>1</td>\n",
       "    </tr>\n",
       "    <tr>\n",
       "      <th>3</th>\n",
       "      <td>31</td>\n",
       "      <td>6852.278185</td>\n",
       "      <td>1</td>\n",
       "    </tr>\n",
       "    <tr>\n",
       "      <th>4</th>\n",
       "      <td>47</td>\n",
       "      <td>6057.122226</td>\n",
       "      <td>1</td>\n",
       "    </tr>\n",
       "  </tbody>\n",
       "</table>\n",
       "<p>10000 rows × 4 columns</p>\n",
       "</div>"
      ],
      "text/plain": [
       "   id       income  approval_bias\n",
       "0   3  6523.029856              1\n",
       "1   6  6579.212816              1\n",
       "2  20  6465.648769              1\n",
       "3  31  6852.278185              1\n",
       "4  47  6057.122226              1"
      ]
     },
     "execution_count": 5,
     "metadata": {},
     "output_type": "execute_result"
    }
   ],
   "source": [
    "gdfb.head()"
   ]
  },
  {
   "cell_type": "markdown",
   "metadata": {},
   "source": [
    "Notice how each of the conditions we defined combine into one condition table"
   ]
  },
  {
   "cell_type": "code",
   "execution_count": null,
   "metadata": {},
   "outputs": [],
   "source": [
    "defC"
   ]
  },
  {
   "cell_type": "markdown",
   "metadata": {},
   "source": [
    "pysimstudy then took our conditions and resulted in a newly generated column with a binary distribution of observations with positive observations equal to the decimal passed into formula argument."
   ]
  },
  {
   "cell_type": "code",
   "execution_count": 7,
   "metadata": {},
   "outputs": [
    {
     "data": {
      "text/plain": [
       "1    0.89705\n",
       "0    0.10295\n",
       "Name: approval_bias, dtype: float64"
      ]
     },
     "execution_count": 7,
     "metadata": {},
     "output_type": "execute_result"
    }
   ],
   "source": [
    "gdfb[gdfb['income'] >= 6000]['approval_bias'].value_counts(normalize=True)"
   ]
  },
  {
   "cell_type": "markdown",
   "metadata": {},
   "source": [
    "This is the same for the other brackets"
   ]
  },
  {
   "cell_type": "code",
   "execution_count": 8,
   "metadata": {},
   "outputs": [
    {
     "data": {
      "text/plain": [
       "1    0.641349\n",
       "0    0.358651\n",
       "Name: approval_bias, dtype: float64"
      ]
     },
     "execution_count": 8,
     "metadata": {},
     "output_type": "execute_result"
    }
   ],
   "source": [
    "gdfb[(gdfb['income'] < 6000) & (gdfb['income'] >=4000)]['approval_bias'].value_counts(normalize=True)"
   ]
  },
  {
   "cell_type": "code",
   "execution_count": 9,
   "metadata": {},
   "outputs": [
    {
     "data": {
      "text/plain": [
       "0    0.565217\n",
       "1    0.434783\n",
       "Name: approval_bias, dtype: float64"
      ]
     },
     "execution_count": 9,
     "metadata": {},
     "output_type": "execute_result"
    }
   ],
   "source": [
    "gdfb[gdfb['income'] < 4000]['approval_bias'].value_counts(normalize=True)"
   ]
  },
  {
   "cell_type": "code",
   "execution_count": 10,
   "metadata": {},
   "outputs": [
    {
     "data": {
      "text/plain": [
       "1    0.6493\n",
       "0    0.3507\n",
       "Name: approval_bias, dtype: float64"
      ]
     },
     "execution_count": 10,
     "metadata": {},
     "output_type": "execute_result"
    }
   ],
   "source": [
    "gdfb['approval_bias'].value_counts(normalize=True)"
   ]
  },
  {
   "cell_type": "markdown",
   "metadata": {},
   "source": [
    "Sometimes it's not that clear to observe how biased data presents itself without using a nice bar graph"
   ]
  },
  {
   "cell_type": "code",
   "execution_count": null,
   "metadata": {},
   "outputs": [],
   "source": [
    "gdfb['approval_bias'].hist();"
   ]
  },
  {
   "cell_type": "code",
   "execution_count": null,
   "metadata": {},
   "outputs": [],
   "source": []
  },
  {
   "cell_type": "markdown",
   "metadata": {},
   "source": [
    "\n",
    "We then define our target variable, __approval__. We add a new row to the data definitions table created in the previous lines of code by passing _df_ as the first argument. The _formula_ is defined as follows: the probability of an individual being approved is 50% +/- their relative income. In other words, inviduals who are on the higher (lower) end of the income scale will be more (less) likely to receive an approval.\n"
   ]
  },
  {
   "cell_type": "code",
   "execution_count": null,
   "metadata": {},
   "outputs": [],
   "source": [
    "# df = defData(df, varname = \"region\", formula=\"0.333, 0.333, 0.333\",\n",
    "#              variance=\"red, blue, green\", dist=\"categorical\")\n",
    "             \n",
    "# ddf = defData(ddf, varname=\"approval\", formula=')', dist='binary')\n"
   ]
  },
  {
   "cell_type": "code",
   "execution_count": null,
   "metadata": {},
   "outputs": [],
   "source": [
    "gdf = genData(10000, ddf)\n",
    "# gdf.head()"
   ]
  },
  {
   "cell_type": "code",
   "execution_count": null,
   "metadata": {},
   "outputs": [],
   "source": [
    "sns.displot(gdf['income']);"
   ]
  },
  {
   "cell_type": "code",
   "execution_count": null,
   "metadata": {},
   "outputs": [],
   "source": [
    "gdf.head()"
   ]
  },
  {
   "cell_type": "markdown",
   "metadata": {},
   "source": [
    "\n",
    "** this can be captioned under a screenshot maybe\n",
    "\n",
    "\n",
    "In certain cases, the formula and variance arguments are used differently. For instance, when defining a categorical data definition, the _formula_ argument is used to determine the categories' respective probabilities of being drawn, and the _variance_ argument defines the categories' names. "
   ]
  },
  {
   "cell_type": "code",
   "execution_count": null,
   "metadata": {},
   "outputs": [],
   "source": [
    "# defC = defCondition(condition = \"color=='blue'\", formula = \"0.1\", variance = \"0.1\",\n",
    "#                     dist = \"normal\")\n",
    "\n",
    "# defC = defCondition(defC, condition = \"color!='blue'\", formula = \"0\", variance = \"0.1\",\n",
    "#                     dist = \"normal\")\n",
    "\n",
    "# df3 = addCondition(defC, df2, newvar=\"income\")"
   ]
  },
  {
   "cell_type": "markdown",
   "metadata": {},
   "source": [
    "## Case 2 - Biased Data"
   ]
  },
  {
   "cell_type": "markdown",
   "metadata": {},
   "source": [
    "### Sub-Scenario 1 - Direct bias"
   ]
  },
  {
   "cell_type": "markdown",
   "metadata": {},
   "source": [
    "In this example we introduce categorical distribution named \"region\". This shows a uniform distribution of observations belonging to one of three regions based on color. Our income is still normally distributed across the population, but there is going to be a protected class that gets \"discriminated\" against to simulate direct bias. In this case, if you're in the blue region, you will be approved 10% less of the time.\n",
    "\n",
    "here we demonstrate the defCondition function which is used for conditional distributions ... "
   ]
  },
  {
   "cell_type": "code",
   "execution_count": null,
   "metadata": {},
   "outputs": [],
   "source": [
    "ddf = defData(ddf, varname = \"region\", formula=\"0.333, 0.333, 0.333\",\n",
    "             variance=\"red, blue, green\", dist=\"categorical\")\n",
    "\n",
    "ddf"
   ]
  },
  {
   "cell_type": "code",
   "execution_count": null,
   "metadata": {},
   "outputs": [],
   "source": [
    "gdf2 = genData(10000, ddf)\n",
    "gdf2.head()"
   ]
  },
  {
   "cell_type": "markdown",
   "metadata": {},
   "source": [
    "below shows blue region have 10% less approval, since we have hard coded a 10% less probability of getting a loan approved"
   ]
  },
  {
   "cell_type": "code",
   "execution_count": null,
   "metadata": {},
   "outputs": [],
   "source": [
    "defC = defCondition(condition = \"region=='blue'\", formula = \"0.4+income\",\n",
    "                    dist = \"binary\")\n",
    "\n",
    "defC = defCondition(defC, condition = \"region!='blue'\", formula = \"0.5+income\",\n",
    "                    dist = \"binary\")\n",
    "\n",
    "gdf2 = addCondition(defC, gdf2, newvar=\"approval_bias\")"
   ]
  },
  {
   "cell_type": "code",
   "execution_count": null,
   "metadata": {},
   "outputs": [],
   "source": [
    "gdf2"
   ]
  },
  {
   "cell_type": "code",
   "execution_count": null,
   "metadata": {},
   "outputs": [],
   "source": [
    "fig, ax = plt.subplots(1, 2, figsize = (12,6))\n",
    "\n",
    "sns.histplot(\n",
    "    data=gdf2, x='approval_bias', hue='region', multiple='dodge',\n",
    "    # bins=range(1, 110, 10),\n",
    "    ax=ax[1]\n",
    ")\n",
    "\n",
    "sns.histplot(\n",
    "    data=gdf2, x='approval', hue='region', multiple='dodge',\n",
    "    # bins=range(1, 110, 10),\n",
    "    ax=ax[0]\n",
    ")"
   ]
  },
  {
   "cell_type": "markdown",
   "metadata": {},
   "source": [
    "### subscenario 2\n",
    "it is also possible to have indirect bias\n",
    "here blue region get a 20% less income negative bonus\n"
   ]
  },
  {
   "cell_type": "code",
   "execution_count": null,
   "metadata": {},
   "outputs": [],
   "source": [
    "defIncomeBiased = defCondition(condition = \"region=='blue'\", \n",
    "                    formula = \"0.8*income\", variance = \"0.1^2\",\n",
    "                    dist = \"normal\")"
   ]
  },
  {
   "cell_type": "code",
   "execution_count": null,
   "metadata": {},
   "outputs": [],
   "source": [
    "gdf3 = addCondition(defIncomeBiased, gdf2, newvar=\"income_bias\", keepOld=True)"
   ]
  },
  {
   "cell_type": "code",
   "execution_count": null,
   "metadata": {},
   "outputs": [],
   "source": [
    "gdf3.groupby('region')['income'].describe()"
   ]
  },
  {
   "cell_type": "code",
   "execution_count": null,
   "metadata": {},
   "outputs": [],
   "source": [
    "gdf3.groupby('region')['income_bias'].describe()"
   ]
  },
  {
   "cell_type": "code",
   "execution_count": null,
   "metadata": {},
   "outputs": [],
   "source": [
    "gdf.groupby('region')['income_bias'].describe()"
   ]
  },
  {
   "cell_type": "code",
   "execution_count": null,
   "metadata": {},
   "outputs": [],
   "source": [
    "defIndirectBiasApproval = defData(varname = \"approval_indirect_bias\", dist = \"binary\", formula = \"0.5+(income_bias)\",)\n",
    "gdf3 = addColumns(defIndirectBiasApproval, gdf3)"
   ]
  },
  {
   "cell_type": "code",
   "execution_count": null,
   "metadata": {},
   "outputs": [],
   "source": [
    "gdf3.groupby('region')['approval_indirect_bias'].value_counts(normalize=True)"
   ]
  },
  {
   "cell_type": "code",
   "execution_count": null,
   "metadata": {},
   "outputs": [],
   "source": [
    "gdf3.groupby('region')['approval'].value_counts(normalize=True)"
   ]
  },
  {
   "cell_type": "code",
   "execution_count": null,
   "metadata": {},
   "outputs": [],
   "source": [
    "gdf3['const'] = 1"
   ]
  },
  {
   "cell_type": "code",
   "execution_count": null,
   "metadata": {},
   "outputs": [],
   "source": [
    "X = pd.get_dummies(gdf3.drop(['id', 'region', 'income', 'approval', 'approval_bias', 'approval_indirect_bias'], axis = 1))\n",
    "\n",
    "mod = sm.GLM(gdf3['approval_indirect_bias'],\n",
    "             X ,\n",
    "            family=sm.families.Binomial())\n",
    "\n",
    "res = mod.fit()\n",
    "\n",
    "print(res.summary())"
   ]
  },
  {
   "cell_type": "code",
   "execution_count": null,
   "metadata": {},
   "outputs": [],
   "source": [
    "X = pd.get_dummies(gdf3.drop(['id', 'income', 'approval', 'approval_bias', 'approval_indirect_bias'], axis = 1))\n",
    "\n",
    "mod = sm.GLM(gdf3['approval_indirect_bias'],\n",
    "             X ,\n",
    "            family=sm.families.Binomial())\n",
    "\n",
    "res = mod.fit()\n",
    "\n",
    "print(res.summary())"
   ]
  },
  {
   "cell_type": "code",
   "execution_count": null,
   "metadata": {},
   "outputs": [],
   "source": [
    "# the coefficient of red as a probability\n",
    "coefasProb(0.1274)"
   ]
  },
  {
   "cell_type": "markdown",
   "metadata": {},
   "source": [
    "## Case Study 2: What happens when Blue is a minority category?"
   ]
  },
  {
   "cell_type": "code",
   "execution_count": null,
   "metadata": {},
   "outputs": [],
   "source": [
    "df = defData(varname = \"color\", formula=\"0.55, 0.10, 0.35\",\n",
    "             variance=\"red, blue, green\", dist=\"categorical\")\n",
    "             \n",
    "df = defData(df, varname = \"income\", formula=0,\n",
    "             variance=1, dist=\"normal\")\n",
    "             \n",
    "df = defData(df, varname=\"approval\", formula='0.5', dist='binary')\n",
    "\n",
    "df2 = genData(10000, df)\n",
    "\n",
    "defC = defCondition(condition = \"color=='blue'\", formula = \"0.4+income/10\",\n",
    "                    dist = \"binary\")\n",
    "\n",
    "defC = defCondition(defC, condition = \"color!='blue'\", formula = \"0.5+income/10\",\n",
    "                    dist = \"binary\")\n",
    "\n",
    "df3 = addCondition(defC, df2, newvar=\"approval_bias\")"
   ]
  },
  {
   "cell_type": "code",
   "execution_count": null,
   "metadata": {},
   "outputs": [],
   "source": [
    "fig, ax = plt.subplots(1,3, figsize = (10,6))\n",
    "sns.histplot(\n",
    "    data=df3, x='income', hue='approval_bias', multiple='dodge',\n",
    "    bins=range(1, 110, 10),\n",
    "    ax=ax[0]\n",
    ")\n",
    "\n",
    "sns.histplot(\n",
    "    data=df3, x='income', hue='color', multiple='dodge',\n",
    "    bins=range(1, 110, 10),\n",
    "    ax=ax[1]\n",
    ")\n",
    "\n",
    "sns.histplot(\n",
    "    data=df3, x='approval_bias', hue='color', multiple='dodge',\n",
    "    bins=range(1, 110, 10),\n",
    "    ax=ax[2]\n",
    ")"
   ]
  },
  {
   "cell_type": "code",
   "execution_count": null,
   "metadata": {},
   "outputs": [],
   "source": [
    "df3['const'] = 1\n",
    "mod = sm.GLM(df3['approval_bias'], pd.get_dummies(df3.drop(['id', 'approval_bias'], axis = 1)),\n",
    "family=sm.families.Binomial())\n",
    "res = mod.fit()\n",
    "print(res.summary())"
   ]
  },
  {
   "cell_type": "code",
   "execution_count": null,
   "metadata": {},
   "outputs": [],
   "source": [
    "# the coefficient of blue as a prb\n",
    "coefasProb(-0.3194)"
   ]
  },
  {
   "cell_type": "code",
   "execution_count": null,
   "metadata": {},
   "outputs": [],
   "source": [
    "# the coefficient of red as a prb\n",
    "coefasProb(0.0854)"
   ]
  },
  {
   "cell_type": "code",
   "execution_count": null,
   "metadata": {},
   "outputs": [],
   "source": [
    "# the coefficient of green as a prob\n",
    "coefasProb(0.1364)"
   ]
  },
  {
   "cell_type": "markdown",
   "metadata": {},
   "source": [
    "## Case Study 3\n",
    "\n",
    "Let's add some predictor variables\n",
    "\n",
    "And make a couple of them correlated with color\n",
    "\n",
    "Then regress approval on these variables, excluding color"
   ]
  },
  {
   "cell_type": "code",
   "execution_count": null,
   "metadata": {},
   "outputs": [],
   "source": [
    "df = defData(varname = \"eye_color\", formula=\"0.55, 0.10, 0.35\",\n",
    "             variance=\"red, blue, green\", dist=\"categorical\")\n",
    "\n",
    "df = defData(df, varname = \"gender\", formula=0.5,\n",
    "            dist=\"binary\")\n",
    "             \n",
    "df2 = genData(10000, df)\n",
    "\n",
    "defNeighborhood = defCondition(condition = \"eye_color=='blue'\", \n",
    "                    formula = \"0.75, 0.05, 0.05, 0.15\",\n",
    "                    variance = \"N1, N2, N3, N4\",\n",
    "                    dist = \"categorical\")\n",
    "\n",
    "defNeighborhood = defCondition(defNeighborhood, condition = \"eye_color=='red'\", \n",
    "                    formula = \"0.05, 0.55, 0.2, 0.2\",\n",
    "                    variance = \"N1, N2, N3, N4\",\n",
    "                    dist = \"categorical\")\n",
    "\n",
    "defNeighborhood = defCondition(defNeighborhood, condition = \"eye_color=='green'\", \n",
    "                    formula = \"0.2, 0.4, 0.3, 0.1\",\n",
    "                    variance = \"N1, N2, N3, N4\",\n",
    "                    dist = \"categorical\")\n",
    "\n",
    "defEdu = defCondition(condition = \"eye_color=='blue'\", \n",
    "                    formula = \"0.65, 0.25, 0.1\",\n",
    "                    variance = \"e1, e2, e3\",\n",
    "                    dist = \"categorical\")\n",
    "\n",
    "defEdu = defCondition(defEdu, condition = \"eye_color=='red'\", \n",
    "                    formula = \"0.2, 0.3, 0.5\",\n",
    "                    variance = \"e1, e2, e3\",\n",
    "                    dist = \"categorical\")\n",
    "\n",
    "defEdu = defCondition(defEdu, condition = \"eye_color=='green'\", \n",
    "                    formula = \"0.3, 0.4, 0.3\",\n",
    "                    variance = \"e1, e2, e3\",\n",
    "                    dist = \"categorical\")\n",
    "\n",
    "defIncome = defCondition(condition = \"education=='e1'\", \n",
    "                    formula = 500,\n",
    "                    variance = 100**2,\n",
    "                    dist = \"normal\")\n",
    "\n",
    "defIncome = defCondition(defIncome, condition = \"education=='e2'\", \n",
    "                    formula = 750,\n",
    "                    variance = 125**2,\n",
    "                    dist = \"normal\")\n",
    "\n",
    "defIncome = defCondition(defIncome, condition = \"education=='e3'\", \n",
    "                    formula = 1500,\n",
    "                    variance = 250**2,\n",
    "                    dist = \"normal\")\n",
    "\n",
    "efIncomeBiased = defCondition(condition = \"eye_color=='blue'\", \n",
    "                    formula = \"0.9*income_raw\",\n",
    "                    dist = \"nonrandom\")\n",
    "\n",
    "defIncomeBiased = defCondition(defIncomeBiased, condition = \"eye_color!='blue'\", \n",
    "                    formula = \"income_raw\",\n",
    "                    dist = \"nonrandom\")\n",
    "d\n",
    "defIncomeBiasedGender = defCondition(condition = \"gender==0\", \n",
    "                        formula = \"0.95*income_biased\",\n",
    "                        dist = \"nonrandom\")\n",
    "\n",
    "defIncomeBiasedGender = defCondition(defIncomeBiasedGender, condition = \"gender==1\", \n",
    "                        formula = \"income_biased\",\n",
    "                        dist = \"nonrandom\")\n",
    "\n",
    "df3 = addCondition(defNeighborhood, df2, newvar=\"neighborhood\")\n",
    "df3 = addCondition(defEdu, df3, newvar=\"education\")\n",
    "df3 = addCondition(defIncome, df3, newvar=\"income_raw\")\n",
    "df3 = addCondition(defIncomeBiased, df3, newvar=\"income_biased\")\n",
    "df3 = addCondition(defIncomeBiasedGender, df3, newvar=\"income_biased2\")"
   ]
  },
  {
   "cell_type": "code",
   "execution_count": null,
   "metadata": {},
   "outputs": [],
   "source": [
    "defNeighborhood"
   ]
  },
  {
   "cell_type": "code",
   "execution_count": null,
   "metadata": {},
   "outputs": [],
   "source": [
    "df3.groupby('eye_color')['education'].value_counts()"
   ]
  },
  {
   "cell_type": "code",
   "execution_count": null,
   "metadata": {},
   "outputs": [],
   "source": [
    "df3.groupby('eye_color')['income_raw'].mean()"
   ]
  },
  {
   "cell_type": "code",
   "execution_count": null,
   "metadata": {},
   "outputs": [],
   "source": [
    "m = df3['income_biased2'].mean()\n",
    "s = df3['income_biased2'].std()\n",
    "df3['income_standard'] = df3['income_biased2'].apply(lambda x: (x - m) / s)"
   ]
  },
  {
   "cell_type": "code",
   "execution_count": null,
   "metadata": {},
   "outputs": [],
   "source": [
    "df3.groupby('eye_color')['income_standard'].mean()"
   ]
  },
  {
   "cell_type": "markdown",
   "metadata": {},
   "source": [
    "Income is the only factor directly influencing approval"
   ]
  },
  {
   "cell_type": "code",
   "execution_count": null,
   "metadata": {},
   "outputs": [],
   "source": [
    "defTarget =  defData(varname = \"approval\", dist = \"binary\", formula = \"0.5+(income_standard/10)\",)\n",
    "defTarget"
   ]
  },
  {
   "cell_type": "markdown",
   "metadata": {},
   "source": [
    "But, income is biased based on previous conditions"
   ]
  },
  {
   "cell_type": "code",
   "execution_count": null,
   "metadata": {},
   "outputs": [],
   "source": [
    "df3 = addColumns(defTarget, df3)"
   ]
  },
  {
   "cell_type": "code",
   "execution_count": null,
   "metadata": {},
   "outputs": [],
   "source": [
    "df3"
   ]
  },
  {
   "cell_type": "code",
   "execution_count": null,
   "metadata": {},
   "outputs": [],
   "source": [
    "os.getcwd()"
   ]
  },
  {
   "cell_type": "code",
   "execution_count": null,
   "metadata": {},
   "outputs": [],
   "source": [
    "df3.to_csv('/Users/davidcruz/Desktop/Side_Projects/simulacra-fake-data/approval-fake.csv')"
   ]
  },
  {
   "cell_type": "code",
   "execution_count": null,
   "metadata": {},
   "outputs": [],
   "source": [
    "df3.groupby('eye_color')['approval'].value_counts(normalize=True)"
   ]
  },
  {
   "cell_type": "code",
   "execution_count": null,
   "metadata": {},
   "outputs": [],
   "source": [
    "df3.groupby('education')['approval'].value_counts(normalize=True)"
   ]
  },
  {
   "cell_type": "code",
   "execution_count": null,
   "metadata": {},
   "outputs": [],
   "source": [
    "df3['const'] = 1\n",
    "mod = sm.GLM(df3['approval'], pd.get_dummies(df3.drop(['id', 'approval', 'income_raw', \n",
    "            'income_biased', 'income_biased2'], axis = 1)),\n",
    "            family=sm.families.Binomial())\n",
    "res = mod.fit()\n",
    "print(res.summary())"
   ]
  },
  {
   "cell_type": "code",
   "execution_count": null,
   "metadata": {},
   "outputs": [],
   "source": [
    "coefasProb(-0.0563)"
   ]
  },
  {
   "cell_type": "code",
   "execution_count": null,
   "metadata": {},
   "outputs": [],
   "source": [
    "coefasProb(0.0305)"
   ]
  },
  {
   "cell_type": "code",
   "execution_count": null,
   "metadata": {},
   "outputs": [],
   "source": [
    "coefasProb(0.0075)"
   ]
  },
  {
   "cell_type": "code",
   "execution_count": null,
   "metadata": {},
   "outputs": [],
   "source": [
    "df3['const'] = 1\n",
    "mod = sm.GLM(df3['approval'], pd.get_dummies(df3.drop(['id', 'approval', 'income_raw', 'eye_color',\n",
    "            'income_biased', 'income_biased2'], axis = 1)),\n",
    "            family=sm.families.Binomial())\n",
    "            \n",
    "res = mod.fit()\n",
    "print(res.summary())"
   ]
  },
  {
   "cell_type": "code",
   "execution_count": null,
   "metadata": {},
   "outputs": [],
   "source": [
    "df3.columns"
   ]
  },
  {
   "cell_type": "code",
   "execution_count": null,
   "metadata": {},
   "outputs": [],
   "source": [
    "pd.get_dummies(df3.drop(['id', 'approval', 'income_raw', \n",
    "            'income_biased', 'income_biased2'], axis = 1))"
   ]
  },
  {
   "cell_type": "code",
   "execution_count": null,
   "metadata": {},
   "outputs": [],
   "source": [
    "from sklearn.utils import compute_sample_weight, resample\n",
    "\n",
    "from sklearn.model_selection import  train_test_split, StratifiedKFold, GridSearchCV, KFold\n",
    "from sklearn.pipeline import Pipeline, make_pipeline\n",
    "from sklearn.preprocessing import StandardScaler, MinMaxScaler\n",
    "from sklearn.model_selection import train_test_split, cross_val_score\n",
    "from sklearn.linear_model import LogisticRegression, Ridge, RidgeCV, RidgeClassifier, RidgeClassifierCV, LinearRegression, Lasso\n",
    "from sklearn.feature_selection import SelectFromModel\n",
    "from sklearn.model_selection import StratifiedKFold\n",
    "# from xgboost import XGBClassifier\n",
    "from sklearn.ensemble import RandomForestRegressor\n",
    "from sklearn.tree import DecisionTreeRegressor\n",
    "\n",
    "from sklearn import tree\n",
    "\n",
    "from sklearn.metrics import classification_report, mean_squared_error, r2_score\n",
    "\n",
    "from sklearn.preprocessing import OneHotEncoder\n",
    "from sklearn.compose import make_column_transformer\n",
    "from sklearn.pipeline import make_pipeline, Pipeline"
   ]
  },
  {
   "cell_type": "code",
   "execution_count": null,
   "metadata": {},
   "outputs": [],
   "source": [
    "X = df3.drop(['id', 'approval', 'income_raw',\n",
    "            'income_biased', 'income_biased2'], axis = 1)"
   ]
  },
  {
   "cell_type": "code",
   "execution_count": null,
   "metadata": {},
   "outputs": [],
   "source": [
    "y = df3['approval']"
   ]
  },
  {
   "cell_type": "code",
   "execution_count": null,
   "metadata": {},
   "outputs": [],
   "source": [
    "# establish categorical variables in X\n",
    "categorical = X.dtypes == object\n",
    "# preprocessing pipeline\n",
    "preprocess = make_column_transformer(\n",
    "    (StandardScaler(), ~categorical),\n",
    "    (OneHotEncoder(handle_unknown = 'ignore'), categorical)\n",
    ")\n",
    "\n",
    "cv = KFold(n_splits = 5)"
   ]
  },
  {
   "cell_type": "code",
   "execution_count": null,
   "metadata": {},
   "outputs": [],
   "source": [
    "X_train, X_test, y_train, y_test = train_test_split(X, y, test_size=0.33, random_state=42)\n",
    "model = make_pipeline(preprocess, LogisticRegression())\n",
    "model.fit(X_train, y_train);"
   ]
  },
  {
   "cell_type": "code",
   "execution_count": null,
   "metadata": {},
   "outputs": [],
   "source": [
    "cat_names = ['eye_color', 'neighborhood', 'education']\n",
    "final_feature_names = categorical[~categorical].index.values.tolist() + \\\n",
    "                      preprocess.transformers_[1][1].get_feature_names_out(cat_names).tolist()\n",
    "\n",
    "coefs = model.named_steps['logisticregression'].coef_[0]\n",
    "\n",
    "featureImportance_df = pd.Series(data = coefs, \n",
    "                                 index = final_feature_names, \n",
    "                                 name = 'coefs').\\\n",
    "                        sort_values(ascending = False, key = np.abs)"
   ]
  },
  {
   "cell_type": "code",
   "execution_count": null,
   "metadata": {},
   "outputs": [],
   "source": [
    "# setting a y_axis variable allows to flip chart for easier reading        \n",
    "yax = np.arange(len(featureImportance_df))\n",
    "\n",
    "fig, ax = plt.subplots(1, 1, figsize = (8,8))\n",
    "\n",
    "ax.plot(featureImportance_df, yax, 'o', c='r')\n",
    "ax.set_yticks(range(len(featureImportance_df)))\n",
    "ax.yaxis.tick_right()\n",
    "ax.set_yticklabels(featureImportance_df.index,rotation = 0)\n",
    "ax.set_title('lasso'.capitalize()+' Coefficients\\nTarget Variable Name: '+str(y.name))\n",
    "ax.axvline(0)\n",
    "\n",
    "plt.show()"
   ]
  },
  {
   "cell_type": "code",
   "execution_count": null,
   "metadata": {},
   "outputs": [],
   "source": [
    "df3[df3['eye_color'] == 'blue']['neighborhood'].value_counts(normalize=True)"
   ]
  },
  {
   "cell_type": "code",
   "execution_count": null,
   "metadata": {},
   "outputs": [],
   "source": [
    "X_train"
   ]
  },
  {
   "cell_type": "code",
   "execution_count": null,
   "metadata": {},
   "outputs": [],
   "source": [
    "X_train['gender'].value_counts()[X_train['gender'].value_counts() > 1].reset_index()['gender']"
   ]
  },
  {
   "cell_type": "code",
   "execution_count": null,
   "metadata": {},
   "outputs": [],
   "source": [
    "y_pred = model.predict(X_test)"
   ]
  }
 ],
 "metadata": {
  "kernelspec": {
   "display_name": "Python 3 (ipykernel)",
   "language": "python",
   "name": "python3"
  },
  "language_info": {
   "codemirror_mode": {
    "name": "ipython",
    "version": 3
   },
   "file_extension": ".py",
   "mimetype": "text/x-python",
   "name": "python",
   "nbconvert_exporter": "python",
   "pygments_lexer": "ipython3",
   "version": "3.9.5"
  },
  "metadata": {
   "interpreter": {
    "hash": "31f2aee4e71d21fbe5cf8b01ff0e069b9275f58929596ceb00d14d90e3e16cd6"
   }
  },
  "vscode": {
   "interpreter": {
    "hash": "31f2aee4e71d21fbe5cf8b01ff0e069b9275f58929596ceb00d14d90e3e16cd6"
   }
  }
 },
 "nbformat": 4,
 "nbformat_minor": 2
}
